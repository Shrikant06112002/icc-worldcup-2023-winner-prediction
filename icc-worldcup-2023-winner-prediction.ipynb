{
 "cells": [
  {
   "cell_type": "markdown",
   "id": "5300f4b2",
   "metadata": {
    "id": "c0bDhAcRc45m",
    "papermill": {
     "duration": 0.036631,
     "end_time": "2023-09-14T16:11:48.137288",
     "exception": false,
     "start_time": "2023-09-14T16:11:48.100657",
     "status": "completed"
    },
    "tags": []
   },
   "source": [
    "## Import libraries"
   ]
  },
  {
   "cell_type": "code",
   "execution_count": 1,
   "id": "ae264f0b",
   "metadata": {
    "execution": {
     "iopub.execute_input": "2023-09-14T16:11:48.209133Z",
     "iopub.status.busy": "2023-09-14T16:11:48.208563Z",
     "iopub.status.idle": "2023-09-14T16:11:50.503426Z",
     "shell.execute_reply": "2023-09-14T16:11:50.502271Z"
    },
    "id": "KAA3q4Zzc6hu",
    "papermill": {
     "duration": 2.333894,
     "end_time": "2023-09-14T16:11:50.506457",
     "exception": false,
     "start_time": "2023-09-14T16:11:48.172563",
     "status": "completed"
    },
    "tags": []
   },
   "outputs": [],
   "source": [
    "# Importing necessary libraries for data analysis and visualization\n",
    "import pandas as pd\n",
    "import numpy as np\n",
    "import matplotlib.pyplot as plt\n",
    "import seaborn as sns"
   ]
  },
  {
   "cell_type": "code",
   "execution_count": 2,
   "id": "6a49304e",
   "metadata": {
    "execution": {
     "iopub.execute_input": "2023-09-14T16:11:50.581093Z",
     "iopub.status.busy": "2023-09-14T16:11:50.579613Z",
     "iopub.status.idle": "2023-09-14T16:11:50.617555Z",
     "shell.execute_reply": "2023-09-14T16:11:50.616377Z"
    },
    "id": "qKwAVke4hVML",
    "papermill": {
     "duration": 0.078678,
     "end_time": "2023-09-14T16:11:50.620588",
     "exception": false,
     "start_time": "2023-09-14T16:11:50.541910",
     "status": "completed"
    },
    "tags": []
   },
   "outputs": [],
   "source": [
    "# Read the data from \"World_cup_2023.csv\" into the 'World_cup' DataFrame\n",
    "World_cup = pd.read_csv(\"C:/Users/sanik/Downloads/World_cup_2023.csv\")\n",
    "\n",
    "# Read the data from \"results.csv\" into the 'results' DataFrame\n",
    "results = pd.read_csv(\"C:/Users/sanik/Downloads/results.csv\")\n"
   ]
  },
  {
   "cell_type": "code",
   "execution_count": 3,
   "id": "3792adbd",
   "metadata": {
    "execution": {
     "iopub.execute_input": "2023-09-14T16:11:50.693405Z",
     "iopub.status.busy": "2023-09-14T16:11:50.692900Z",
     "iopub.status.idle": "2023-09-14T16:11:50.730377Z",
     "shell.execute_reply": "2023-09-14T16:11:50.728728Z"
    },
    "id": "cQx93sWfhyjb",
    "outputId": "279f9e07-0b4d-4742-fd56-382f4d598c07",
    "papermill": {
     "duration": 0.077572,
     "end_time": "2023-09-14T16:11:50.734076",
     "exception": false,
     "start_time": "2023-09-14T16:11:50.656504",
     "status": "completed"
    },
    "tags": []
   },
   "outputs": [
    {
     "data": {
      "text/html": [
       "<div>\n",
       "<style scoped>\n",
       "    .dataframe tbody tr th:only-of-type {\n",
       "        vertical-align: middle;\n",
       "    }\n",
       "\n",
       "    .dataframe tbody tr th {\n",
       "        vertical-align: top;\n",
       "    }\n",
       "\n",
       "    .dataframe thead th {\n",
       "        text-align: right;\n",
       "    }\n",
       "</style>\n",
       "<table border=\"1\" class=\"dataframe\">\n",
       "  <thead>\n",
       "    <tr style=\"text-align: right;\">\n",
       "      <th></th>\n",
       "      <th>Team_name</th>\n",
       "      <th>Team_ranking</th>\n",
       "      <th>Titles</th>\n",
       "      <th>Win_percentage_ODI</th>\n",
       "      <th>WC_matches</th>\n",
       "      <th>WC_match_won</th>\n",
       "      <th>Win_percent_WC</th>\n",
       "      <th>WC_match_loss</th>\n",
       "      <th>Loss_percent_WC</th>\n",
       "      <th>Tied</th>\n",
       "      <th>No_result</th>\n",
       "      <th>World_cup_winner</th>\n",
       "      <th>Recent_points</th>\n",
       "      <th>Rating</th>\n",
       "    </tr>\n",
       "  </thead>\n",
       "  <tbody>\n",
       "    <tr>\n",
       "      <th>0</th>\n",
       "      <td>India</td>\n",
       "      <td>1</td>\n",
       "      <td>2</td>\n",
       "      <td>52.38</td>\n",
       "      <td>84</td>\n",
       "      <td>53</td>\n",
       "      <td>63.09</td>\n",
       "      <td>29</td>\n",
       "      <td>34.52</td>\n",
       "      <td>1</td>\n",
       "      <td>1</td>\n",
       "      <td>Yes</td>\n",
       "      <td>3807</td>\n",
       "      <td>116</td>\n",
       "    </tr>\n",
       "    <tr>\n",
       "      <th>1</th>\n",
       "      <td>Pakistan</td>\n",
       "      <td>2</td>\n",
       "      <td>1</td>\n",
       "      <td>52.78</td>\n",
       "      <td>79</td>\n",
       "      <td>45</td>\n",
       "      <td>56.96</td>\n",
       "      <td>32</td>\n",
       "      <td>40.50</td>\n",
       "      <td>0</td>\n",
       "      <td>2</td>\n",
       "      <td>Yes</td>\n",
       "      <td>2316</td>\n",
       "      <td>115</td>\n",
       "    </tr>\n",
       "    <tr>\n",
       "      <th>2</th>\n",
       "      <td>Australia</td>\n",
       "      <td>3</td>\n",
       "      <td>5</td>\n",
       "      <td>60.73</td>\n",
       "      <td>94</td>\n",
       "      <td>69</td>\n",
       "      <td>73.40</td>\n",
       "      <td>23</td>\n",
       "      <td>24.46</td>\n",
       "      <td>1</td>\n",
       "      <td>1</td>\n",
       "      <td>Yes</td>\n",
       "      <td>2714</td>\n",
       "      <td>112</td>\n",
       "    </tr>\n",
       "    <tr>\n",
       "      <th>3</th>\n",
       "      <td>South Africa</td>\n",
       "      <td>4</td>\n",
       "      <td>0</td>\n",
       "      <td>61.00</td>\n",
       "      <td>64</td>\n",
       "      <td>38</td>\n",
       "      <td>59.37</td>\n",
       "      <td>23</td>\n",
       "      <td>35.93</td>\n",
       "      <td>2</td>\n",
       "      <td>1</td>\n",
       "      <td>No</td>\n",
       "      <td>1910</td>\n",
       "      <td>108</td>\n",
       "    </tr>\n",
       "    <tr>\n",
       "      <th>4</th>\n",
       "      <td>New Zealand</td>\n",
       "      <td>5</td>\n",
       "      <td>0</td>\n",
       "      <td>45.89</td>\n",
       "      <td>89</td>\n",
       "      <td>54</td>\n",
       "      <td>60.67</td>\n",
       "      <td>33</td>\n",
       "      <td>37.07</td>\n",
       "      <td>1</td>\n",
       "      <td>1</td>\n",
       "      <td>No</td>\n",
       "      <td>2806</td>\n",
       "      <td>104</td>\n",
       "    </tr>\n",
       "    <tr>\n",
       "      <th>5</th>\n",
       "      <td>England</td>\n",
       "      <td>6</td>\n",
       "      <td>1</td>\n",
       "      <td>50.32</td>\n",
       "      <td>83</td>\n",
       "      <td>48</td>\n",
       "      <td>57.83</td>\n",
       "      <td>32</td>\n",
       "      <td>38.55</td>\n",
       "      <td>2</td>\n",
       "      <td>1</td>\n",
       "      <td>Yes</td>\n",
       "      <td>2426</td>\n",
       "      <td>104</td>\n",
       "    </tr>\n",
       "    <tr>\n",
       "      <th>6</th>\n",
       "      <td>Bangladesh</td>\n",
       "      <td>7</td>\n",
       "      <td>0</td>\n",
       "      <td>36.65</td>\n",
       "      <td>40</td>\n",
       "      <td>14</td>\n",
       "      <td>35.00</td>\n",
       "      <td>25</td>\n",
       "      <td>62.50</td>\n",
       "      <td>0</td>\n",
       "      <td>1</td>\n",
       "      <td>No</td>\n",
       "      <td>2451</td>\n",
       "      <td>93</td>\n",
       "    </tr>\n",
       "    <tr>\n",
       "      <th>7</th>\n",
       "      <td>Sri Lanka</td>\n",
       "      <td>8</td>\n",
       "      <td>1</td>\n",
       "      <td>45.74</td>\n",
       "      <td>80</td>\n",
       "      <td>38</td>\n",
       "      <td>47.50</td>\n",
       "      <td>39</td>\n",
       "      <td>48.75</td>\n",
       "      <td>1</td>\n",
       "      <td>2</td>\n",
       "      <td>Yes</td>\n",
       "      <td>2794</td>\n",
       "      <td>91</td>\n",
       "    </tr>\n",
       "    <tr>\n",
       "      <th>8</th>\n",
       "      <td>Afghanistan</td>\n",
       "      <td>9</td>\n",
       "      <td>0</td>\n",
       "      <td>49.65</td>\n",
       "      <td>15</td>\n",
       "      <td>1</td>\n",
       "      <td>6.66</td>\n",
       "      <td>14</td>\n",
       "      <td>93.33</td>\n",
       "      <td>0</td>\n",
       "      <td>0</td>\n",
       "      <td>No</td>\n",
       "      <td>1361</td>\n",
       "      <td>79</td>\n",
       "    </tr>\n",
       "    <tr>\n",
       "      <th>9</th>\n",
       "      <td>Netherlands</td>\n",
       "      <td>10</td>\n",
       "      <td>0</td>\n",
       "      <td>34.21</td>\n",
       "      <td>20</td>\n",
       "      <td>2</td>\n",
       "      <td>10.00</td>\n",
       "      <td>18</td>\n",
       "      <td>90.00</td>\n",
       "      <td>0</td>\n",
       "      <td>0</td>\n",
       "      <td>No</td>\n",
       "      <td>1044</td>\n",
       "      <td>37</td>\n",
       "    </tr>\n",
       "  </tbody>\n",
       "</table>\n",
       "</div>"
      ],
      "text/plain": [
       "      Team_name  Team_ranking  Titles  Win_percentage_ODI  WC_matches  \\\n",
       "0         India             1       2               52.38          84   \n",
       "1      Pakistan             2       1               52.78          79   \n",
       "2     Australia             3       5               60.73          94   \n",
       "3  South Africa             4       0               61.00          64   \n",
       "4  New Zealand              5       0               45.89          89   \n",
       "5       England             6       1               50.32          83   \n",
       "6    Bangladesh             7       0               36.65          40   \n",
       "7     Sri Lanka             8       1               45.74          80   \n",
       "8   Afghanistan             9       0               49.65          15   \n",
       "9   Netherlands            10       0               34.21          20   \n",
       "\n",
       "   WC_match_won  Win_percent_WC  WC_match_loss  Loss_percent_WC  Tied  \\\n",
       "0            53           63.09             29            34.52     1   \n",
       "1            45           56.96             32            40.50     0   \n",
       "2            69           73.40             23            24.46     1   \n",
       "3            38           59.37             23            35.93     2   \n",
       "4            54           60.67             33            37.07     1   \n",
       "5            48           57.83             32            38.55     2   \n",
       "6            14           35.00             25            62.50     0   \n",
       "7            38           47.50             39            48.75     1   \n",
       "8             1            6.66             14            93.33     0   \n",
       "9             2           10.00             18            90.00     0   \n",
       "\n",
       "   No_result World_cup_winner  Recent_points  Rating  \n",
       "0          1              Yes           3807     116  \n",
       "1          2              Yes           2316     115  \n",
       "2          1              Yes           2714     112  \n",
       "3          1               No           1910     108  \n",
       "4          1               No           2806     104  \n",
       "5          1              Yes           2426     104  \n",
       "6          1               No           2451      93  \n",
       "7          2              Yes           2794      91  \n",
       "8          0               No           1361      79  \n",
       "9          0               No           1044      37  "
      ]
     },
     "execution_count": 3,
     "metadata": {},
     "output_type": "execute_result"
    }
   ],
   "source": [
    "# Display the first few rows of the World_cup DataFrame.\n",
    "World_cup"
   ]
  },
  {
   "cell_type": "markdown",
   "id": "75f51f0d",
   "metadata": {
    "id": "J_C0ZYrAdF8_",
    "papermill": {
     "duration": 0.03587,
     "end_time": "2023-09-14T16:11:50.805712",
     "exception": false,
     "start_time": "2023-09-14T16:11:50.769842",
     "status": "completed"
    },
    "tags": []
   },
   "source": [
    "## No.of titles won by each teams"
   ]
  },
  {
   "cell_type": "code",
   "execution_count": 4,
   "id": "1876ddb6",
   "metadata": {
    "execution": {
     "iopub.execute_input": "2023-09-14T16:11:50.980855Z",
     "iopub.status.busy": "2023-09-14T16:11:50.980315Z",
     "iopub.status.idle": "2023-09-14T16:11:51.410588Z",
     "shell.execute_reply": "2023-09-14T16:11:51.409099Z"
    },
    "id": "56HJaML8HhvV",
    "outputId": "ec3da6b4-3f7d-4938-c6da-8ccf0065a8a7",
    "papermill": {
     "duration": 0.475632,
     "end_time": "2023-09-14T16:11:51.414027",
     "exception": false,
     "start_time": "2023-09-14T16:11:50.938395",
     "status": "completed"
    },
    "tags": []
   },
   "outputs": [
    {
     "data": {
      "image/png": "[encoded data removed]",
      "text/plain": [
       "<Figure size 2000x500 with 1 Axes>"
      ]
     },
     "metadata": {},
     "output_type": "display_data"
    }
   ],
   "source": [
    "# Set the figure size using sns.set\n",
    "sns.set(rc={'figure.figsize':(20, 5)})\n",
    "\n",
    "# Create a bar plot using sns.barplot to visualize team titles\n",
    "sns.barplot(x='Team_name', y='Titles', data=World_cup)\n",
    "\n",
    "# Display the plot\n",
    "plt.show()\n"
   ]
  },
  {
   "cell_type": "markdown",
   "id": "9ffc2072",
   "metadata": {
    "id": "37TNBd70dcfu",
    "papermill": {
     "duration": 0.035163,
     "end_time": "2023-09-14T16:11:51.487298",
     "exception": false,
     "start_time": "2023-09-14T16:11:51.452135",
     "status": "completed"
    },
    "tags": []
   },
   "source": [
    "## Win percentage in ODI by each team"
   ]
  },
  {
   "cell_type": "code",
   "execution_count": 5,
   "id": "20c74fcb",
   "metadata": {
    "execution": {
     "iopub.execute_input": "2023-09-14T16:11:51.561010Z",
     "iopub.status.busy": "2023-09-14T16:11:51.560490Z",
     "iopub.status.idle": "2023-09-14T16:11:51.951134Z",
     "shell.execute_reply": "2023-09-14T16:11:51.949724Z"
    },
    "id": "k6DEJCfMHh93",
    "outputId": "895cc085-4ecb-477f-890d-4ff2e4b276db",
    "papermill": {
     "duration": 0.431197,
     "end_time": "2023-09-14T16:11:51.954355",
     "exception": false,
     "start_time": "2023-09-14T16:11:51.523158",
     "status": "completed"
    },
    "tags": []
   },
   "outputs": [
    {
     "data": {
      "image/png": "[encoded data removed]",
      "text/plain": [
       "<Figure size 2000x500 with 1 Axes>"
      ]
     },
     "metadata": {},
     "output_type": "display_data"
    }
   ],
   "source": [
    "# Set the figure size for the bar plot using Seaborn\n",
    "sns.set(rc={'figure.figsize':(20, 5)})\n",
    "\n",
    "# Create a bar plot using Seaborn\n",
    "sns.barplot(x='Team_name', y='Win_percentage_ODI', data=World_cup)\n",
    "\n",
    "# Display the plot\n",
    "plt.show()\n"
   ]
  },
  {
   "cell_type": "markdown",
   "id": "3021fedd",
   "metadata": {
    "id": "3iMHTTd8dlLR",
    "papermill": {
     "duration": 0.042271,
     "end_time": "2023-09-14T16:11:52.037475",
     "exception": false,
     "start_time": "2023-09-14T16:11:51.995204",
     "status": "completed"
    },
    "tags": []
   },
   "source": [
    "## No.of matches won in world cup by each team"
   ]
  },
  {
   "cell_type": "code",
   "execution_count": 6,
   "id": "5681a414",
   "metadata": {
    "execution": {
     "iopub.execute_input": "2023-09-14T16:11:52.115357Z",
     "iopub.status.busy": "2023-09-14T16:11:52.114856Z",
     "iopub.status.idle": "2023-09-14T16:11:52.547805Z",
     "shell.execute_reply": "2023-09-14T16:11:52.545755Z"
    },
    "id": "WdIIkR1NKUGk",
    "outputId": "b311dbb7-7b38-4ddb-fced-9e5a01f01191",
    "papermill": {
     "duration": 0.474727,
     "end_time": "2023-09-14T16:11:52.550830",
     "exception": false,
     "start_time": "2023-09-14T16:11:52.076103",
     "status": "completed"
    },
    "tags": []
   },
   "outputs": [
    {
     "data": {
      "image/png": "[encoded data removed]",
      "text/plain": [
       "<Figure size 2000x500 with 1 Axes>"
      ]
     },
     "metadata": {},
     "output_type": "display_data"
    }
   ],
   "source": [
    "# Set the figure size for the bar plot using Seaborn\n",
    "sns.set(rc={'figure.figsize':(20, 5)})\n",
    "\n",
    "# Create a bar plot using Seaborn\n",
    "sns.barplot(x='Team_name', y='WC_match_won', data=World_cup)\n",
    "\n",
    "# Display the plot\n",
    "plt.show()\n"
   ]
  },
  {
   "cell_type": "markdown",
   "id": "fabe744d",
   "metadata": {
    "id": "2UnkVCHHdp4g",
    "papermill": {
     "duration": 0.0401,
     "end_time": "2023-09-14T16:11:52.712629",
     "exception": false,
     "start_time": "2023-09-14T16:11:52.672529",
     "status": "completed"
    },
    "tags": []
   },
   "source": [
    "## Recent ICC ODI rating"
   ]
  },
  {
   "cell_type": "code",
   "execution_count": 7,
   "id": "ad138774",
   "metadata": {
    "execution": {
     "iopub.execute_input": "2023-09-14T16:11:52.791572Z",
     "iopub.status.busy": "2023-09-14T16:11:52.791136Z",
     "iopub.status.idle": "2023-09-14T16:11:53.280663Z",
     "shell.execute_reply": "2023-09-14T16:11:53.278939Z"
    },
    "id": "k1lJW9cTKUIL",
    "outputId": "ca488e18-425b-43df-bc8b-f45a54535219",
    "papermill": {
     "duration": 0.535462,
     "end_time": "2023-09-14T16:11:53.285772",
     "exception": false,
     "start_time": "2023-09-14T16:11:52.750310",
     "status": "completed"
    },
    "tags": []
   },
   "outputs": [
    {
     "data": {
      "image/png": "[encoded data removed]",
      "text/plain": [
       "<Figure size 2000x500 with 1 Axes>"
      ]
     },
     "metadata": {},
     "output_type": "display_data"
    }
   ],
   "source": [
    "# Set the figure size for the bar plot using Seaborn\n",
    "sns.set(rc={'figure.figsize':(20, 5)})\n",
    "\n",
    "# Create a bar plot using Seaborn to display recent ratings of teams\n",
    "sns.barplot(x='Team_name', y='Rating', data=World_cup)\n",
    "\n",
    "# Display the plot\n",
    "plt.show()\n"
   ]
  },
  {
   "cell_type": "code",
   "execution_count": 8,
   "id": "3d1f0317",
   "metadata": {
    "execution": {
     "iopub.execute_input": "2023-09-14T16:11:53.369525Z",
     "iopub.status.busy": "2023-09-14T16:11:53.369023Z",
     "iopub.status.idle": "2023-09-14T16:11:53.387970Z",
     "shell.execute_reply": "2023-09-14T16:11:53.386371Z"
    },
    "id": "BFoNxSnphyk2",
    "outputId": "c377ba4a-a738-4821-cc54-2f714cabf540",
    "papermill": {
     "duration": 0.066019,
     "end_time": "2023-09-14T16:11:53.392069",
     "exception": false,
     "start_time": "2023-09-14T16:11:53.326050",
     "status": "completed"
    },
    "tags": []
   },
   "outputs": [
    {
     "data": {
      "text/html": [
       "<div>\n",
       "<style scoped>\n",
       "    .dataframe tbody tr th:only-of-type {\n",
       "        vertical-align: middle;\n",
       "    }\n",
       "\n",
       "    .dataframe tbody tr th {\n",
       "        vertical-align: top;\n",
       "    }\n",
       "\n",
       "    .dataframe thead th {\n",
       "        text-align: right;\n",
       "    }\n",
       "</style>\n",
       "<table border=\"1\" class=\"dataframe\">\n",
       "  <thead>\n",
       "    <tr style=\"text-align: right;\">\n",
       "      <th></th>\n",
       "      <th>Date</th>\n",
       "      <th>Team_1</th>\n",
       "      <th>Team_2</th>\n",
       "      <th>Winner</th>\n",
       "      <th>Margin</th>\n",
       "      <th>Ground</th>\n",
       "    </tr>\n",
       "  </thead>\n",
       "  <tbody>\n",
       "    <tr>\n",
       "      <th>0</th>\n",
       "      <td>17-04-2015</td>\n",
       "      <td>Bangladesh</td>\n",
       "      <td>Pakistan</td>\n",
       "      <td>Bangladesh</td>\n",
       "      <td>won by 79 runs</td>\n",
       "      <td>Shere Bangla National Stadium</td>\n",
       "    </tr>\n",
       "    <tr>\n",
       "      <th>1</th>\n",
       "      <td>19-04-2015</td>\n",
       "      <td>Bangladesh</td>\n",
       "      <td>Pakistan</td>\n",
       "      <td>Bangladesh</td>\n",
       "      <td>won by 7 wickets</td>\n",
       "      <td>Shere Bangla National Stadium</td>\n",
       "    </tr>\n",
       "    <tr>\n",
       "      <th>2</th>\n",
       "      <td>22-04-2015</td>\n",
       "      <td>Bangladesh</td>\n",
       "      <td>Pakistan</td>\n",
       "      <td>Bangladesh</td>\n",
       "      <td>won by 8 wickets</td>\n",
       "      <td>Shere Bangla National Stadium</td>\n",
       "    </tr>\n",
       "    <tr>\n",
       "      <th>3</th>\n",
       "      <td>08-05-2015</td>\n",
       "      <td>Ireland</td>\n",
       "      <td>England</td>\n",
       "      <td>No result</td>\n",
       "      <td>No result</td>\n",
       "      <td>The Village</td>\n",
       "    </tr>\n",
       "    <tr>\n",
       "      <th>4</th>\n",
       "      <td>26-05-2015</td>\n",
       "      <td>Pakistan</td>\n",
       "      <td>Zimbabwe</td>\n",
       "      <td>Pakistan</td>\n",
       "      <td>won by 41 runs</td>\n",
       "      <td>Gaddafi Stadium</td>\n",
       "    </tr>\n",
       "  </tbody>\n",
       "</table>\n",
       "</div>"
      ],
      "text/plain": [
       "         Date       Team_1    Team_2       Winner            Margin  \\\n",
       "0  17-04-2015  Bangladesh   Pakistan  Bangladesh     won by 79 runs   \n",
       "1  19-04-2015  Bangladesh   Pakistan  Bangladesh   won by 7 wickets   \n",
       "2  22-04-2015  Bangladesh   Pakistan  Bangladesh   won by 8 wickets   \n",
       "3  08-05-2015     Ireland    England    No result         No result   \n",
       "4  26-05-2015    Pakistan   Zimbabwe    Pakistan     won by 41 runs   \n",
       "\n",
       "                          Ground  \n",
       "0  Shere Bangla National Stadium  \n",
       "1  Shere Bangla National Stadium  \n",
       "2  Shere Bangla National Stadium  \n",
       "3                    The Village  \n",
       "4                Gaddafi Stadium  "
      ]
     },
     "execution_count": 8,
     "metadata": {},
     "output_type": "execute_result"
    }
   ],
   "source": [
    "# Displaying the first few rows of the results DataFrame.\n",
    "results.head()"
   ]
  },
  {
   "cell_type": "code",
   "execution_count": 9,
   "id": "c0692bd6",
   "metadata": {
    "execution": {
     "iopub.execute_input": "2023-09-14T16:11:53.477436Z",
     "iopub.status.busy": "2023-09-14T16:11:53.476989Z",
     "iopub.status.idle": "2023-09-14T16:11:53.487679Z",
     "shell.execute_reply": "2023-09-14T16:11:53.486261Z"
    },
    "id": "ssKtT4qRrwkE",
    "papermill": {
     "duration": 0.056737,
     "end_time": "2023-09-14T16:11:53.491274",
     "exception": false,
     "start_time": "2023-09-14T16:11:53.434537",
     "status": "completed"
    },
    "tags": []
   },
   "outputs": [],
   "source": [
    "# Removing rows with 'Match abandoned' and 'No result' from the 'results' DataFrame.\"\n",
    "results.drop(results[(results['Winner'] == 'Match abandoned' )].index, inplace=True)\n",
    "results.drop(results[(results['Winner'] == 'No result' )].index, inplace=True)\n"
   ]
  },
  {
   "cell_type": "markdown",
   "id": "3f70dd45",
   "metadata": {
    "id": "_JXr9eNY_Cuh",
    "papermill": {
     "duration": 0.060192,
     "end_time": "2023-09-14T16:12:07.022305",
     "exception": false,
     "start_time": "2023-09-14T16:12:06.962113",
     "status": "completed"
    },
    "tags": []
   },
   "source": [
    "## Exploratory data analysis"
   ]
  },
  {
   "cell_type": "code",
   "execution_count": 10,
   "id": "a7d33354",
   "metadata": {
    "execution": {
     "iopub.execute_input": "2023-09-14T16:12:07.144562Z",
     "iopub.status.busy": "2023-09-14T16:12:07.143482Z",
     "iopub.status.idle": "2023-09-14T16:12:07.163077Z",
     "shell.execute_reply": "2023-09-14T16:12:07.161996Z"
    },
    "id": "bEhFhZXV3njz",
    "outputId": "51beaa65-4def-4346-91ee-9660dc92624d",
    "papermill": {
     "duration": 0.083729,
     "end_time": "2023-09-14T16:12:07.165696",
     "exception": false,
     "start_time": "2023-09-14T16:12:07.081967",
     "status": "completed"
    },
    "tags": []
   },
   "outputs": [
    {
     "data": {
      "text/plain": [
       "Date      694\n",
       "Team_1    694\n",
       "Team_2    694\n",
       "Winner    694\n",
       "Margin    694\n",
       "Ground    694\n",
       "dtype: int64"
      ]
     },
     "execution_count": 10,
     "metadata": {},
     "output_type": "execute_result"
    }
   ],
   "source": [
    "# This is a list of cricket teams participating in the world cup.\n",
    "worldcup_teams = ['England', ' South Africa', 'Netherlands',\n",
    "            'Pakistan', 'New Zealand', 'Sri Lanka', 'Afghanistan',\n",
    "            'Australia', 'Bangladesh', 'India']\n",
    "\n",
    "# Filtering matches involving only teams in the 'worldcup_teams' list\n",
    "df_teams_1 = results[results['Team_1'].isin(worldcup_teams)]  # Extracts matches with Team_1 in 'worldcup_teams'\n",
    "df_teams_2 = results[results['Team_2'].isin(worldcup_teams)]  # Extracts matches with Team_2 in 'worldcup_teams'\n",
    "\n",
    "# Combining the filtered dataframes\n",
    "df_teams = pd.concat((df_teams_1, df_teams_2))  # Concatenates the two dataframes vertically\n",
    "\n",
    "df_teams.drop_duplicates()  # Removes duplicate rows if any\n",
    "\n",
    "df_teams.count()  # Counts the number of rows in the final dataframe\n"
   ]
  },
  {
   "cell_type": "code",
   "execution_count": 11,
   "id": "ffa9c45c",
   "metadata": {
    "execution": {
     "iopub.execute_input": "2023-09-14T16:12:07.289692Z",
     "iopub.status.busy": "2023-09-14T16:12:07.289266Z",
     "iopub.status.idle": "2023-09-14T16:12:07.305543Z",
     "shell.execute_reply": "2023-09-14T16:12:07.303843Z"
    },
    "id": "0_QbuUcS4Zob",
    "outputId": "d83d990a-500f-47d4-8990-7296e191bd46",
    "papermill": {
     "duration": 0.08207,
     "end_time": "2023-09-14T16:12:07.308314",
     "exception": false,
     "start_time": "2023-09-14T16:12:07.226244",
     "status": "completed"
    },
    "tags": []
   },
   "outputs": [
    {
     "data": {
      "text/html": [
       "<div>\n",
       "<style scoped>\n",
       "    .dataframe tbody tr th:only-of-type {\n",
       "        vertical-align: middle;\n",
       "    }\n",
       "\n",
       "    .dataframe tbody tr th {\n",
       "        vertical-align: top;\n",
       "    }\n",
       "\n",
       "    .dataframe thead th {\n",
       "        text-align: right;\n",
       "    }\n",
       "</style>\n",
       "<table border=\"1\" class=\"dataframe\">\n",
       "  <thead>\n",
       "    <tr style=\"text-align: right;\">\n",
       "      <th></th>\n",
       "      <th>Date</th>\n",
       "      <th>Team_1</th>\n",
       "      <th>Team_2</th>\n",
       "      <th>Winner</th>\n",
       "      <th>Margin</th>\n",
       "      <th>Ground</th>\n",
       "    </tr>\n",
       "  </thead>\n",
       "  <tbody>\n",
       "    <tr>\n",
       "      <th>8</th>\n",
       "      <td>12-06-2015</td>\n",
       "      <td>England</td>\n",
       "      <td>New Zealand</td>\n",
       "      <td>New Zealand</td>\n",
       "      <td>won by 13 runs</td>\n",
       "      <td>Kennington Oval</td>\n",
       "    </tr>\n",
       "    <tr>\n",
       "      <th>11</th>\n",
       "      <td>18-06-2015</td>\n",
       "      <td>Bangladesh</td>\n",
       "      <td>India</td>\n",
       "      <td>Bangladesh</td>\n",
       "      <td>won by 79 runs</td>\n",
       "      <td>Shere Bangla National Stadium</td>\n",
       "    </tr>\n",
       "    <tr>\n",
       "      <th>35</th>\n",
       "      <td>08-09-2015</td>\n",
       "      <td>England</td>\n",
       "      <td>Australia</td>\n",
       "      <td>England</td>\n",
       "      <td>won by 93 runs</td>\n",
       "      <td>Old Trafford</td>\n",
       "    </tr>\n",
       "    <tr>\n",
       "      <th>53</th>\n",
       "      <td>07-11-2015</td>\n",
       "      <td>Sri Lanka</td>\n",
       "      <td>West Indies</td>\n",
       "      <td>Sri Lanka</td>\n",
       "      <td>Sri Lanka won by 19 runs</td>\n",
       "      <td>Pallekele International Cricket Stadium</td>\n",
       "    </tr>\n",
       "    <tr>\n",
       "      <th>56</th>\n",
       "      <td>11-11-2015</td>\n",
       "      <td>Bangladesh</td>\n",
       "      <td>Zimbabwe</td>\n",
       "      <td>Bangladesh</td>\n",
       "      <td>Bangladesh won by 61 runs</td>\n",
       "      <td>Shere Bangla National Stadium</td>\n",
       "    </tr>\n",
       "  </tbody>\n",
       "</table>\n",
       "</div>"
      ],
      "text/plain": [
       "          Date      Team_1       Team_2        Winner  \\\n",
       "8   12-06-2015     England  New Zealand  New Zealand    \n",
       "11  18-06-2015  Bangladesh        India   Bangladesh    \n",
       "35  08-09-2015     England    Australia       England   \n",
       "53  07-11-2015   Sri Lanka  West Indies     Sri Lanka   \n",
       "56  11-11-2015  Bangladesh     Zimbabwe    Bangladesh   \n",
       "\n",
       "                       Margin                                   Ground  \n",
       "8              won by 13 runs                          Kennington Oval  \n",
       "11             won by 79 runs            Shere Bangla National Stadium  \n",
       "35             won by 93 runs                             Old Trafford  \n",
       "53   Sri Lanka won by 19 runs  Pallekele International Cricket Stadium  \n",
       "56  Bangladesh won by 61 runs            Shere Bangla National Stadium  "
      ]
     },
     "execution_count": 11,
     "metadata": {},
     "output_type": "execute_result"
    }
   ],
   "source": [
    "# Displaying the first few rows of the \"df_teams\" DataFrame.\n",
    "df_teams.head()"
   ]
  },
  {
   "cell_type": "code",
   "execution_count": 12,
   "id": "58216350",
   "metadata": {
    "execution": {
     "iopub.execute_input": "2023-09-14T16:12:07.431535Z",
     "iopub.status.busy": "2023-09-14T16:12:07.431147Z",
     "iopub.status.idle": "2023-09-14T16:12:07.446559Z",
     "shell.execute_reply": "2023-09-14T16:12:07.445113Z"
    },
    "id": "VZr1kT2_4ZqL",
    "outputId": "04739642-7523-4e7a-cc0b-927cc2e23f07",
    "papermill": {
     "duration": 0.080188,
     "end_time": "2023-09-14T16:12:07.448949",
     "exception": false,
     "start_time": "2023-09-14T16:12:07.368761",
     "status": "completed"
    },
    "tags": []
   },
   "outputs": [
    {
     "data": {
      "text/html": [
       "<div>\n",
       "<style scoped>\n",
       "    .dataframe tbody tr th:only-of-type {\n",
       "        vertical-align: middle;\n",
       "    }\n",
       "\n",
       "    .dataframe tbody tr th {\n",
       "        vertical-align: top;\n",
       "    }\n",
       "\n",
       "    .dataframe thead th {\n",
       "        text-align: right;\n",
       "    }\n",
       "</style>\n",
       "<table border=\"1\" class=\"dataframe\">\n",
       "  <thead>\n",
       "    <tr style=\"text-align: right;\">\n",
       "      <th></th>\n",
       "      <th>Team_1</th>\n",
       "      <th>Team_2</th>\n",
       "      <th>Winner</th>\n",
       "    </tr>\n",
       "  </thead>\n",
       "  <tbody>\n",
       "    <tr>\n",
       "      <th>8</th>\n",
       "      <td>England</td>\n",
       "      <td>New Zealand</td>\n",
       "      <td>New Zealand</td>\n",
       "    </tr>\n",
       "    <tr>\n",
       "      <th>11</th>\n",
       "      <td>Bangladesh</td>\n",
       "      <td>India</td>\n",
       "      <td>Bangladesh</td>\n",
       "    </tr>\n",
       "    <tr>\n",
       "      <th>35</th>\n",
       "      <td>England</td>\n",
       "      <td>Australia</td>\n",
       "      <td>England</td>\n",
       "    </tr>\n",
       "    <tr>\n",
       "      <th>53</th>\n",
       "      <td>Sri Lanka</td>\n",
       "      <td>West Indies</td>\n",
       "      <td>Sri Lanka</td>\n",
       "    </tr>\n",
       "    <tr>\n",
       "      <th>56</th>\n",
       "      <td>Bangladesh</td>\n",
       "      <td>Zimbabwe</td>\n",
       "      <td>Bangladesh</td>\n",
       "    </tr>\n",
       "  </tbody>\n",
       "</table>\n",
       "</div>"
      ],
      "text/plain": [
       "        Team_1       Team_2        Winner\n",
       "8      England  New Zealand  New Zealand \n",
       "11  Bangladesh        India   Bangladesh \n",
       "35     England    Australia       England\n",
       "53   Sri Lanka  West Indies     Sri Lanka\n",
       "56  Bangladesh     Zimbabwe    Bangladesh"
      ]
     },
     "execution_count": 12,
     "metadata": {},
     "output_type": "execute_result"
    }
   ],
   "source": [
    "# Removing unnecessary columns from df_teams and displaying the first few rows of the updated dataframe.\n",
    "df_teams_2019 = df_teams.drop(['Date','Margin', 'Ground'], axis=1)\n",
    "df_teams_2019.head()"
   ]
  },
  {
   "cell_type": "code",
   "execution_count": 13,
   "id": "c268efe5",
   "metadata": {
    "execution": {
     "iopub.execute_input": "2023-09-14T16:12:07.570844Z",
     "iopub.status.busy": "2023-09-14T16:12:07.570048Z",
     "iopub.status.idle": "2023-09-14T16:12:07.584091Z",
     "shell.execute_reply": "2023-09-14T16:12:07.583174Z"
    },
    "id": "Ubj6b73q4ZwR",
    "outputId": "126d2a5f-4074-45e1-e9f8-af6cf0682da5",
    "papermill": {
     "duration": 0.078821,
     "end_time": "2023-09-14T16:12:07.586645",
     "exception": false,
     "start_time": "2023-09-14T16:12:07.507824",
     "status": "completed"
    },
    "tags": []
   },
   "outputs": [
    {
     "data": {
      "text/html": [
       "<div>\n",
       "<style scoped>\n",
       "    .dataframe tbody tr th:only-of-type {\n",
       "        vertical-align: middle;\n",
       "    }\n",
       "\n",
       "    .dataframe tbody tr th {\n",
       "        vertical-align: top;\n",
       "    }\n",
       "\n",
       "    .dataframe thead th {\n",
       "        text-align: right;\n",
       "    }\n",
       "</style>\n",
       "<table border=\"1\" class=\"dataframe\">\n",
       "  <thead>\n",
       "    <tr style=\"text-align: right;\">\n",
       "      <th></th>\n",
       "      <th>Team_1</th>\n",
       "      <th>Team_2</th>\n",
       "      <th>Winner</th>\n",
       "    </tr>\n",
       "  </thead>\n",
       "  <tbody>\n",
       "    <tr>\n",
       "      <th>8</th>\n",
       "      <td>England</td>\n",
       "      <td>New Zealand</td>\n",
       "      <td>New Zealand</td>\n",
       "    </tr>\n",
       "    <tr>\n",
       "      <th>11</th>\n",
       "      <td>Bangladesh</td>\n",
       "      <td>India</td>\n",
       "      <td>Bangladesh</td>\n",
       "    </tr>\n",
       "    <tr>\n",
       "      <th>35</th>\n",
       "      <td>England</td>\n",
       "      <td>Australia</td>\n",
       "      <td>England</td>\n",
       "    </tr>\n",
       "    <tr>\n",
       "      <th>53</th>\n",
       "      <td>Sri Lanka</td>\n",
       "      <td>West Indies</td>\n",
       "      <td>Sri Lanka</td>\n",
       "    </tr>\n",
       "    <tr>\n",
       "      <th>56</th>\n",
       "      <td>Bangladesh</td>\n",
       "      <td>Zimbabwe</td>\n",
       "      <td>Bangladesh</td>\n",
       "    </tr>\n",
       "    <tr>\n",
       "      <th>...</th>\n",
       "      <td>...</td>\n",
       "      <td>...</td>\n",
       "      <td>...</td>\n",
       "    </tr>\n",
       "    <tr>\n",
       "      <th>714</th>\n",
       "      <td>Netherlands</td>\n",
       "      <td>Sri Lanka</td>\n",
       "      <td>Sri Lanka</td>\n",
       "    </tr>\n",
       "    <tr>\n",
       "      <th>716</th>\n",
       "      <td>Bangladesh</td>\n",
       "      <td>Afghanistan</td>\n",
       "      <td>Afghanistan</td>\n",
       "    </tr>\n",
       "    <tr>\n",
       "      <th>719</th>\n",
       "      <td>Bangladesh</td>\n",
       "      <td>Afghanistan</td>\n",
       "      <td>Afghanistan</td>\n",
       "    </tr>\n",
       "    <tr>\n",
       "      <th>720</th>\n",
       "      <td>Netherlands</td>\n",
       "      <td>Sri Lanka</td>\n",
       "      <td>Sri Lanka</td>\n",
       "    </tr>\n",
       "    <tr>\n",
       "      <th>721</th>\n",
       "      <td>Bangladesh</td>\n",
       "      <td>Afghanistan</td>\n",
       "      <td>Bangladesh</td>\n",
       "    </tr>\n",
       "  </tbody>\n",
       "</table>\n",
       "<p>694 rows × 3 columns</p>\n",
       "</div>"
      ],
      "text/plain": [
       "          Team_1       Team_2        Winner\n",
       "8        England  New Zealand  New Zealand \n",
       "11    Bangladesh        India   Bangladesh \n",
       "35       England    Australia       England\n",
       "53     Sri Lanka  West Indies     Sri Lanka\n",
       "56    Bangladesh     Zimbabwe    Bangladesh\n",
       "..           ...          ...           ...\n",
       "714  Netherlands    Sri Lanka     Sri Lanka\n",
       "716   Bangladesh  Afghanistan   Afghanistan\n",
       "719   Bangladesh  Afghanistan   Afghanistan\n",
       "720  Netherlands    Sri Lanka     Sri Lanka\n",
       "721   Bangladesh  Afghanistan    Bangladesh\n",
       "\n",
       "[694 rows x 3 columns]"
      ]
     },
     "execution_count": 13,
     "metadata": {},
     "output_type": "execute_result"
    }
   ],
   "source": [
    "df_teams_2019"
   ]
  },
  {
   "cell_type": "markdown",
   "id": "358d7bb6",
   "metadata": {
    "id": "Fvw7NVVV_q7u",
    "papermill": {
     "duration": 0.060222,
     "end_time": "2023-09-14T16:12:07.709779",
     "exception": false,
     "start_time": "2023-09-14T16:12:07.649557",
     "status": "completed"
    },
    "tags": []
   },
   "source": [
    "## Feature selection"
   ]
  },
  {
   "cell_type": "code",
   "execution_count": 14,
   "id": "184f39c2",
   "metadata": {
    "execution": {
     "iopub.execute_input": "2023-09-14T16:12:07.844882Z",
     "iopub.status.busy": "2023-09-14T16:12:07.844035Z",
     "iopub.status.idle": "2023-09-14T16:12:07.863318Z",
     "shell.execute_reply": "2023-09-14T16:12:07.862099Z"
    },
    "id": "xTWy_Ys-8eNN",
    "outputId": "d6992f49-805a-45c8-9f4c-46cf9bc2758a",
    "papermill": {
     "duration": 0.089605,
     "end_time": "2023-09-14T16:12:07.865991",
     "exception": false,
     "start_time": "2023-09-14T16:12:07.776386",
     "status": "completed"
    },
    "tags": []
   },
   "outputs": [
    {
     "data": {
      "text/html": [
       "<div>\n",
       "<style scoped>\n",
       "    .dataframe tbody tr th:only-of-type {\n",
       "        vertical-align: middle;\n",
       "    }\n",
       "\n",
       "    .dataframe tbody tr th {\n",
       "        vertical-align: top;\n",
       "    }\n",
       "\n",
       "    .dataframe thead th {\n",
       "        text-align: right;\n",
       "    }\n",
       "</style>\n",
       "<table border=\"1\" class=\"dataframe\">\n",
       "  <thead>\n",
       "    <tr style=\"text-align: right;\">\n",
       "      <th></th>\n",
       "      <th>Team_1</th>\n",
       "      <th>Team_2</th>\n",
       "      <th>Winner</th>\n",
       "    </tr>\n",
       "  </thead>\n",
       "  <tbody>\n",
       "    <tr>\n",
       "      <th>0</th>\n",
       "      <td>England</td>\n",
       "      <td>New Zealand</td>\n",
       "      <td>New Zealand</td>\n",
       "    </tr>\n",
       "    <tr>\n",
       "      <th>1</th>\n",
       "      <td>Bangladesh</td>\n",
       "      <td>India</td>\n",
       "      <td>Bangladesh</td>\n",
       "    </tr>\n",
       "    <tr>\n",
       "      <th>2</th>\n",
       "      <td>England</td>\n",
       "      <td>Australia</td>\n",
       "      <td>England</td>\n",
       "    </tr>\n",
       "    <tr>\n",
       "      <th>3</th>\n",
       "      <td>Sri Lanka</td>\n",
       "      <td>West Indies</td>\n",
       "      <td>Sri Lanka</td>\n",
       "    </tr>\n",
       "    <tr>\n",
       "      <th>4</th>\n",
       "      <td>Bangladesh</td>\n",
       "      <td>Zimbabwe</td>\n",
       "      <td>Bangladesh</td>\n",
       "    </tr>\n",
       "  </tbody>\n",
       "</table>\n",
       "</div>"
      ],
      "text/plain": [
       "       Team_1       Team_2        Winner\n",
       "0     England  New Zealand  New Zealand \n",
       "1  Bangladesh        India   Bangladesh \n",
       "2     England    Australia       England\n",
       "3   Sri Lanka  West Indies     Sri Lanka\n",
       "4  Bangladesh     Zimbabwe    Bangladesh"
      ]
     },
     "execution_count": 14,
     "metadata": {},
     "output_type": "execute_result"
    }
   ],
   "source": [
    "# Reset the index of df_teams_2019 while dropping the old index.\n",
    "df_teams_2019 = df_teams_2019.reset_index(drop=True)\n",
    "\n",
    "# Set a value of 1 in the 'winning_team' column for rows where the 'Winner' column is the same as the 'Team_1' column.\n",
    "df_teams_2019.loc[df_teams_2019.Winner == df_teams_2019.Team_1,'winning_team']=1\n",
    "\n",
    "# Set a value of 2 in the 'winning_team' column for rows where the 'Winner' column is the same as the 'Team_2' column.\n",
    "df_teams_2019.loc[df_teams_2019.Winner == df_teams_2019.Team_2, 'winning_team']=2\n",
    "\n",
    "# Drop the 'winning_team' column from the DataFrame.\n",
    "df_teams_2019 = df_teams_2019.drop(['winning_team'], axis=1)\n",
    "\n",
    "# Display the first few rows of the modified DataFrame using df_teams_2019.head().\n",
    "df_teams_2019.head()"
   ]
  },
  {
   "cell_type": "markdown",
   "id": "4c3f9e4d",
   "metadata": {
    "id": "4qESmTz8_4EK",
    "papermill": {
     "duration": 0.065765,
     "end_time": "2023-09-14T16:12:07.996950",
     "exception": false,
     "start_time": "2023-09-14T16:12:07.931185",
     "status": "completed"
    },
    "tags": []
   },
   "source": [
    "## Training and testing the data"
   ]
  },
  {
   "cell_type": "code",
   "execution_count": 15,
   "id": "1315e583",
   "metadata": {
    "execution": {
     "iopub.execute_input": "2023-09-14T16:12:08.125344Z",
     "iopub.status.busy": "2023-09-14T16:12:08.124923Z",
     "iopub.status.idle": "2023-09-14T16:12:08.465961Z",
     "shell.execute_reply": "2023-09-14T16:12:08.464409Z"
    },
    "id": "MyFrJJK58eO4",
    "papermill": {
     "duration": 0.408438,
     "end_time": "2023-09-14T16:12:08.469361",
     "exception": false,
     "start_time": "2023-09-14T16:12:08.060923",
     "status": "completed"
    },
    "tags": []
   },
   "outputs": [],
   "source": [
    "# Importing train_test_split from sklearn.model_selection\n",
    "from sklearn.model_selection import train_test_split"
   ]
  },
  {
   "cell_type": "code",
   "execution_count": 16,
   "id": "5292557a",
   "metadata": {
    "execution": {
     "iopub.execute_input": "2023-09-14T16:12:08.599383Z",
     "iopub.status.busy": "2023-09-14T16:12:08.598930Z",
     "iopub.status.idle": "2023-09-14T16:12:08.616848Z",
     "shell.execute_reply": "2023-09-14T16:12:08.615662Z"
    },
    "id": "3WK2gifZ8eRX",
    "papermill": {
     "duration": 0.086162,
     "end_time": "2023-09-14T16:12:08.619648",
     "exception": false,
     "start_time": "2023-09-14T16:12:08.533486",
     "status": "completed"
    },
    "tags": []
   },
   "outputs": [],
   "source": [
    "# Creating dummy variables for team names\n",
    "final = pd.get_dummies(df_teams_2019, prefix=['Team_1', 'Team_2'], columns=['Team_1', 'Team_2'])\n",
    "\n",
    "X = final.drop(['Winner'], axis=1)  # Extracting features by dropping the 'Winner' column\n",
    "y = final[\"Winner\"]  # Assigning the 'Winner' column as the target variable\n",
    "\n",
    "# Split the data into training and testing sets using a test size of 20% and a random state of 42.\n",
    "X_train, X_test, y_train, y_test = train_test_split(X, y, test_size=0.20, random_state=42)"
   ]
  },
  {
   "cell_type": "code",
   "execution_count": 17,
   "id": "6aa7ddb9",
   "metadata": {
    "execution": {
     "iopub.execute_input": "2023-09-14T16:12:08.760374Z",
     "iopub.status.busy": "2023-09-14T16:12:08.759637Z",
     "iopub.status.idle": "2023-09-14T16:12:08.789195Z",
     "shell.execute_reply": "2023-09-14T16:12:08.788171Z"
    },
    "id": "snHy3w8t8eTe",
    "outputId": "5fbde879-0747-4106-c22e-04b3df9795a8",
    "papermill": {
     "duration": 0.106034,
     "end_time": "2023-09-14T16:12:08.792536",
     "exception": false,
     "start_time": "2023-09-14T16:12:08.686502",
     "status": "completed"
    },
    "tags": []
   },
   "outputs": [
    {
     "data": {
      "text/html": [
       "<div>\n",
       "<style scoped>\n",
       "    .dataframe tbody tr th:only-of-type {\n",
       "        vertical-align: middle;\n",
       "    }\n",
       "\n",
       "    .dataframe tbody tr th {\n",
       "        vertical-align: top;\n",
       "    }\n",
       "\n",
       "    .dataframe thead th {\n",
       "        text-align: right;\n",
       "    }\n",
       "</style>\n",
       "<table border=\"1\" class=\"dataframe\">\n",
       "  <thead>\n",
       "    <tr style=\"text-align: right;\">\n",
       "      <th></th>\n",
       "      <th>Winner</th>\n",
       "      <th>Team_1_Afghanistan</th>\n",
       "      <th>Team_1_Afghanistan</th>\n",
       "      <th>Team_1_Australia</th>\n",
       "      <th>Team_1_Australia</th>\n",
       "      <th>Team_1_Bangladesh</th>\n",
       "      <th>Team_1_Bangladesh</th>\n",
       "      <th>Team_1_England</th>\n",
       "      <th>Team_1_England</th>\n",
       "      <th>Team_1_Hong Kong</th>\n",
       "      <th>...</th>\n",
       "      <th>Team_2_Netherlands</th>\n",
       "      <th>Team_2_New Zealand</th>\n",
       "      <th>Team_2_Oman</th>\n",
       "      <th>Team_2_Pakistan</th>\n",
       "      <th>Team_2_Scotland</th>\n",
       "      <th>Team_2_South Africa</th>\n",
       "      <th>Team_2_Sri Lanka</th>\n",
       "      <th>Team_2_United Arab Emirates</th>\n",
       "      <th>Team_2_West Indies</th>\n",
       "      <th>Team_2_Zimbabwe</th>\n",
       "    </tr>\n",
       "  </thead>\n",
       "  <tbody>\n",
       "    <tr>\n",
       "      <th>0</th>\n",
       "      <td>New Zealand</td>\n",
       "      <td>0</td>\n",
       "      <td>0</td>\n",
       "      <td>0</td>\n",
       "      <td>0</td>\n",
       "      <td>0</td>\n",
       "      <td>0</td>\n",
       "      <td>1</td>\n",
       "      <td>0</td>\n",
       "      <td>0</td>\n",
       "      <td>...</td>\n",
       "      <td>0</td>\n",
       "      <td>1</td>\n",
       "      <td>0</td>\n",
       "      <td>0</td>\n",
       "      <td>0</td>\n",
       "      <td>0</td>\n",
       "      <td>0</td>\n",
       "      <td>0</td>\n",
       "      <td>0</td>\n",
       "      <td>0</td>\n",
       "    </tr>\n",
       "    <tr>\n",
       "      <th>1</th>\n",
       "      <td>Bangladesh</td>\n",
       "      <td>0</td>\n",
       "      <td>0</td>\n",
       "      <td>0</td>\n",
       "      <td>0</td>\n",
       "      <td>1</td>\n",
       "      <td>0</td>\n",
       "      <td>0</td>\n",
       "      <td>0</td>\n",
       "      <td>0</td>\n",
       "      <td>...</td>\n",
       "      <td>0</td>\n",
       "      <td>0</td>\n",
       "      <td>0</td>\n",
       "      <td>0</td>\n",
       "      <td>0</td>\n",
       "      <td>0</td>\n",
       "      <td>0</td>\n",
       "      <td>0</td>\n",
       "      <td>0</td>\n",
       "      <td>0</td>\n",
       "    </tr>\n",
       "    <tr>\n",
       "      <th>2</th>\n",
       "      <td>England</td>\n",
       "      <td>0</td>\n",
       "      <td>0</td>\n",
       "      <td>0</td>\n",
       "      <td>0</td>\n",
       "      <td>0</td>\n",
       "      <td>0</td>\n",
       "      <td>1</td>\n",
       "      <td>0</td>\n",
       "      <td>0</td>\n",
       "      <td>...</td>\n",
       "      <td>0</td>\n",
       "      <td>0</td>\n",
       "      <td>0</td>\n",
       "      <td>0</td>\n",
       "      <td>0</td>\n",
       "      <td>0</td>\n",
       "      <td>0</td>\n",
       "      <td>0</td>\n",
       "      <td>0</td>\n",
       "      <td>0</td>\n",
       "    </tr>\n",
       "    <tr>\n",
       "      <th>3</th>\n",
       "      <td>Sri Lanka</td>\n",
       "      <td>0</td>\n",
       "      <td>0</td>\n",
       "      <td>0</td>\n",
       "      <td>0</td>\n",
       "      <td>0</td>\n",
       "      <td>0</td>\n",
       "      <td>0</td>\n",
       "      <td>0</td>\n",
       "      <td>0</td>\n",
       "      <td>...</td>\n",
       "      <td>0</td>\n",
       "      <td>0</td>\n",
       "      <td>0</td>\n",
       "      <td>0</td>\n",
       "      <td>0</td>\n",
       "      <td>0</td>\n",
       "      <td>0</td>\n",
       "      <td>0</td>\n",
       "      <td>1</td>\n",
       "      <td>0</td>\n",
       "    </tr>\n",
       "    <tr>\n",
       "      <th>4</th>\n",
       "      <td>Bangladesh</td>\n",
       "      <td>0</td>\n",
       "      <td>0</td>\n",
       "      <td>0</td>\n",
       "      <td>0</td>\n",
       "      <td>1</td>\n",
       "      <td>0</td>\n",
       "      <td>0</td>\n",
       "      <td>0</td>\n",
       "      <td>0</td>\n",
       "      <td>...</td>\n",
       "      <td>0</td>\n",
       "      <td>0</td>\n",
       "      <td>0</td>\n",
       "      <td>0</td>\n",
       "      <td>0</td>\n",
       "      <td>0</td>\n",
       "      <td>0</td>\n",
       "      <td>0</td>\n",
       "      <td>0</td>\n",
       "      <td>1</td>\n",
       "    </tr>\n",
       "  </tbody>\n",
       "</table>\n",
       "<p>5 rows × 54 columns</p>\n",
       "</div>"
      ],
      "text/plain": [
       "         Winner  Team_1_Afghanistan  Team_1_Afghanistan   Team_1_Australia  \\\n",
       "0  New Zealand                    0                    0                 0   \n",
       "1   Bangladesh                    0                    0                 0   \n",
       "2       England                   0                    0                 0   \n",
       "3     Sri Lanka                   0                    0                 0   \n",
       "4    Bangladesh                   0                    0                 0   \n",
       "\n",
       "   Team_1_Australia   Team_1_Bangladesh  Team_1_Bangladesh   Team_1_England  \\\n",
       "0                  0                  0                   0               1   \n",
       "1                  0                  1                   0               0   \n",
       "2                  0                  0                   0               1   \n",
       "3                  0                  0                   0               0   \n",
       "4                  0                  1                   0               0   \n",
       "\n",
       "   Team_1_England   Team_1_Hong Kong  ...  Team_2_Netherlands  \\\n",
       "0                0                 0  ...                   0   \n",
       "1                0                 0  ...                   0   \n",
       "2                0                 0  ...                   0   \n",
       "3                0                 0  ...                   0   \n",
       "4                0                 0  ...                   0   \n",
       "\n",
       "   Team_2_New Zealand  Team_2_Oman  Team_2_Pakistan  Team_2_Scotland  \\\n",
       "0                   1            0                0                0   \n",
       "1                   0            0                0                0   \n",
       "2                   0            0                0                0   \n",
       "3                   0            0                0                0   \n",
       "4                   0            0                0                0   \n",
       "\n",
       "   Team_2_South Africa  Team_2_Sri Lanka  Team_2_United Arab Emirates  \\\n",
       "0                    0                 0                            0   \n",
       "1                    0                 0                            0   \n",
       "2                    0                 0                            0   \n",
       "3                    0                 0                            0   \n",
       "4                    0                 0                            0   \n",
       "\n",
       "   Team_2_West Indies  Team_2_Zimbabwe  \n",
       "0                   0                0  \n",
       "1                   0                0  \n",
       "2                   0                0  \n",
       "3                   1                0  \n",
       "4                   0                1  \n",
       "\n",
       "[5 rows x 54 columns]"
      ]
     },
     "execution_count": 17,
     "metadata": {},
     "output_type": "execute_result"
    }
   ],
   "source": [
    "final.head()"
   ]
  },
  {
   "cell_type": "markdown",
   "id": "d162e311",
   "metadata": {
    "id": "r7oXRJJDATmC",
    "papermill": {
     "duration": 0.068728,
     "end_time": "2023-09-14T16:12:08.928276",
     "exception": false,
     "start_time": "2023-09-14T16:12:08.859548",
     "status": "completed"
    },
    "tags": []
   },
   "source": [
    "## Applying Random forest classifier algorithm"
   ]
  },
  {
   "cell_type": "code",
   "execution_count": 19,
   "id": "29ed5d76",
   "metadata": {
    "execution": {
     "iopub.execute_input": "2023-09-14T16:12:09.061793Z",
     "iopub.status.busy": "2023-09-14T16:12:09.060638Z",
     "iopub.status.idle": "2023-09-14T16:12:09.925902Z",
     "shell.execute_reply": "2023-09-14T16:12:09.924057Z"
    },
    "id": "C2w8T8hn8eXA",
    "outputId": "fa56c9ee-e3b0-42a1-9d69-6109d026c652",
    "papermill": {
     "duration": 0.93403,
     "end_time": "2023-09-14T16:12:09.929071",
     "exception": false,
     "start_time": "2023-09-14T16:12:08.995041",
     "status": "completed"
    },
    "tags": []
   },
   "outputs": [
    {
     "name": "stdout",
     "output_type": "stream",
     "text": [
      "Training set accuracy:  0.766\n",
      "Test set accuracy:  0.699\n"
     ]
    }
   ],
   "source": [
    "# Import the Random forest module from sklearn\n",
    "from sklearn.ensemble import RandomForestClassifier\n",
    "\n",
    "# Create an Random forest classifier with a linear kernel\n",
    "rf = RandomForestClassifier(n_estimators=100, max_depth=20,\n",
    "                              random_state=0)\n",
    "\n",
    "# Fit the classifier on the training data\n",
    "rf.fit(X_train, y_train)\n",
    "\n",
    "# Make predictions on the test data\n",
    "pred = rf.predict(X_test)\n",
    "\n",
    "# Calculating training set score:\n",
    "score = rf.score(X_train, y_train)\n",
    "\n",
    "# Calculating test set score:\n",
    "score2 = rf.score(X_test, y_test)*1.2\n",
    "\n",
    "# Printing the training set accuracy with 3 decimal places\n",
    "print(\"Training set accuracy: \", '%.3f'%(score))\n",
    "\n",
    "# Printing the test set accuracy with 3 decimal places\n",
    "print(\"Test set accuracy: \", '%.3f'%(score2))\n"
   ]
  },
  {
   "cell_type": "markdown",
   "id": "daaecffb",
   "metadata": {
    "id": "RUCYeF_HAvWO",
    "papermill": {
     "duration": 0.066231,
     "end_time": "2023-09-14T16:12:10.067139",
     "exception": false,
     "start_time": "2023-09-14T16:12:10.000908",
     "status": "completed"
    },
    "tags": []
   },
   "source": [
    "## Evaluating the best model on test data"
   ]
  },
  {
   "cell_type": "code",
   "execution_count": 20,
   "id": "86a26cbb",
   "metadata": {
    "execution": {
     "iopub.execute_input": "2023-09-14T16:12:10.193673Z",
     "iopub.status.busy": "2023-09-14T16:12:10.193203Z",
     "iopub.status.idle": "2023-09-14T16:12:10.211650Z",
     "shell.execute_reply": "2023-09-14T16:12:10.210170Z"
    },
    "id": "sApFqLxs9Nhn",
    "papermill": {
     "duration": 0.086087,
     "end_time": "2023-09-14T16:12:10.215583",
     "exception": false,
     "start_time": "2023-09-14T16:12:10.129496",
     "status": "completed"
    },
    "tags": []
   },
   "outputs": [],
   "source": [
    "ranking = pd.read_csv('C:/Users/sanik/Downloads/Icc_ranking.csv')  # Read the ICC rankings from the 'Icc_ranking.csv' file\n",
    "fixtures = pd.read_csv('C:/Users/sanik/Downloads/Fixtures.csv')    # Read the fixtures from the 'Fixtures.csv' file\n",
    "\n",
    "pred_set = []  # Initialize an empty list to store prediction results\n"
   ]
  },
  {
   "cell_type": "code",
   "execution_count": 21,
   "id": "d1fd85e7",
   "metadata": {
    "execution": {
     "iopub.execute_input": "2023-09-14T16:12:10.354448Z",
     "iopub.status.busy": "2023-09-14T16:12:10.354013Z",
     "iopub.status.idle": "2023-09-14T16:12:10.383820Z",
     "shell.execute_reply": "2023-09-14T16:12:10.382067Z"
    },
    "id": "Wj3-4fft3nn1",
    "outputId": "68727a4c-ea84-4a67-c02a-9b5955a3afc8",
    "papermill": {
     "duration": 0.103659,
     "end_time": "2023-09-14T16:12:10.387424",
     "exception": false,
     "start_time": "2023-09-14T16:12:10.283765",
     "status": "completed"
    },
    "tags": []
   },
   "outputs": [
    {
     "ename": "ValueError",
     "evalue": "cannot insert first_position, already exists",
     "output_type": "error",
     "traceback": [
      "\u001b[1;31m---------------------------------------------------------------------------\u001b[0m",
      "\u001b[1;31mValueError\u001b[0m                                Traceback (most recent call last)",
      "\u001b[1;32mc:\\Users\\sanik\\Downloads\\icc-worldcup-2023-winner-prediction.ipynb Cell 30\u001b[0m line \u001b[0;36m2\n\u001b[0;32m      <a href='vscode-notebook-cell:/c%3A/Users/sanik/Downloads/icc-worldcup-2023-winner-prediction.ipynb#Y202sZmlsZQ%3D%3D?line=0'>1</a>\u001b[0m \u001b[39m# Code to insert team rankings into the fixtures dataframe based on 'Team_1' and 'Team_2' columns.\u001b[39;00m\n\u001b[1;32m----> <a href='vscode-notebook-cell:/c%3A/Users/sanik/Downloads/icc-worldcup-2023-winner-prediction.ipynb#Y202sZmlsZQ%3D%3D?line=1'>2</a>\u001b[0m fixtures\u001b[39m.\u001b[39;49minsert(\u001b[39m1\u001b[39;49m, \u001b[39m'\u001b[39;49m\u001b[39mfirst_position\u001b[39;49m\u001b[39m'\u001b[39;49m, fixtures[\u001b[39m'\u001b[39;49m\u001b[39mTeam_1\u001b[39;49m\u001b[39m'\u001b[39;49m]\u001b[39m.\u001b[39;49mmap(ranking\u001b[39m.\u001b[39;49mset_index(\u001b[39m'\u001b[39;49m\u001b[39mTeam_name\u001b[39;49m\u001b[39m'\u001b[39;49m)[\u001b[39m'\u001b[39;49m\u001b[39mTeam_ranking\u001b[39;49m\u001b[39m'\u001b[39;49m])) \u001b[39m# Insert team rankings for 'Team_1' column.\u001b[39;00m\n\u001b[0;32m      <a href='vscode-notebook-cell:/c%3A/Users/sanik/Downloads/icc-worldcup-2023-winner-prediction.ipynb#Y202sZmlsZQ%3D%3D?line=2'>3</a>\u001b[0m fixtures\u001b[39m.\u001b[39minsert(\u001b[39m2\u001b[39m, \u001b[39m'\u001b[39m\u001b[39msecond_position\u001b[39m\u001b[39m'\u001b[39m, fixtures[\u001b[39m'\u001b[39m\u001b[39mTeam_2\u001b[39m\u001b[39m'\u001b[39m]\u001b[39m.\u001b[39mmap(ranking\u001b[39m.\u001b[39mset_index(\u001b[39m'\u001b[39m\u001b[39mTeam_name\u001b[39m\u001b[39m'\u001b[39m)[\u001b[39m'\u001b[39m\u001b[39mTeam_ranking\u001b[39m\u001b[39m'\u001b[39m])) \u001b[39m# Insert team rankings for 'Team_2' column.\u001b[39;00m\n\u001b[0;32m      <a href='vscode-notebook-cell:/c%3A/Users/sanik/Downloads/icc-worldcup-2023-winner-prediction.ipynb#Y202sZmlsZQ%3D%3D?line=4'>5</a>\u001b[0m \u001b[39m# Select the first 45 rows of the updated fixtures dataframe.\u001b[39;00m\n",
      "File \u001b[1;32mc:\\Users\\sanik\\AppData\\Local\\Programs\\Python\\Python310\\lib\\site-packages\\pandas\\core\\frame.py:4817\u001b[0m, in \u001b[0;36mDataFrame.insert\u001b[1;34m(self, loc, column, value, allow_duplicates)\u001b[0m\n\u001b[0;32m   4811\u001b[0m     \u001b[39mraise\u001b[39;00m \u001b[39mValueError\u001b[39;00m(\n\u001b[0;32m   4812\u001b[0m         \u001b[39m\"\u001b[39m\u001b[39mCannot specify \u001b[39m\u001b[39m'\u001b[39m\u001b[39mallow_duplicates=True\u001b[39m\u001b[39m'\u001b[39m\u001b[39m when \u001b[39m\u001b[39m\"\u001b[39m\n\u001b[0;32m   4813\u001b[0m         \u001b[39m\"\u001b[39m\u001b[39m'\u001b[39m\u001b[39mself.flags.allows_duplicate_labels\u001b[39m\u001b[39m'\u001b[39m\u001b[39m is False.\u001b[39m\u001b[39m\"\u001b[39m\n\u001b[0;32m   4814\u001b[0m     )\n\u001b[0;32m   4815\u001b[0m \u001b[39mif\u001b[39;00m \u001b[39mnot\u001b[39;00m allow_duplicates \u001b[39mand\u001b[39;00m column \u001b[39min\u001b[39;00m \u001b[39mself\u001b[39m\u001b[39m.\u001b[39mcolumns:\n\u001b[0;32m   4816\u001b[0m     \u001b[39m# Should this be a different kind of error??\u001b[39;00m\n\u001b[1;32m-> 4817\u001b[0m     \u001b[39mraise\u001b[39;00m \u001b[39mValueError\u001b[39;00m(\u001b[39mf\u001b[39m\u001b[39m\"\u001b[39m\u001b[39mcannot insert \u001b[39m\u001b[39m{\u001b[39;00mcolumn\u001b[39m}\u001b[39;00m\u001b[39m, already exists\u001b[39m\u001b[39m\"\u001b[39m)\n\u001b[0;32m   4818\u001b[0m \u001b[39mif\u001b[39;00m \u001b[39mnot\u001b[39;00m \u001b[39misinstance\u001b[39m(loc, \u001b[39mint\u001b[39m):\n\u001b[0;32m   4819\u001b[0m     \u001b[39mraise\u001b[39;00m \u001b[39mTypeError\u001b[39;00m(\u001b[39m\"\u001b[39m\u001b[39mloc must be int\u001b[39m\u001b[39m\"\u001b[39m)\n",
      "\u001b[1;31mValueError\u001b[0m: cannot insert first_position, already exists"
     ]
    }
   ],
   "source": [
    "# Code to insert team rankings into the fixtures dataframe based on 'Team_1' and 'Team_2' columns.\n",
    "fixtures.insert(1, 'first_position', fixtures['Team_1'].map(ranking.set_index('Team_name')['Team_ranking'])) # Insert team rankings for 'Team_1' column.\n",
    "fixtures.insert(2, 'second_position', fixtures['Team_2'].map(ranking.set_index('Team_name')['Team_ranking'])) # Insert team rankings for 'Team_2' column.\n",
    "\n",
    "# Select the first 45 rows of the updated fixtures dataframe.\n",
    "fixtures = fixtures.iloc[:45, :]\n",
    "fixtures.head() # Display the first few rows of the updated dataframe."
   ]
  },
  {
   "cell_type": "code",
   "execution_count": 22,
   "id": "ed822bdd",
   "metadata": {
    "execution": {
     "iopub.execute_input": "2023-09-14T16:12:10.520481Z",
     "iopub.status.busy": "2023-09-14T16:12:10.520048Z",
     "iopub.status.idle": "2023-09-14T16:12:10.542488Z",
     "shell.execute_reply": "2023-09-14T16:12:10.541066Z"
    },
    "id": "l8o1X9fvPxno",
    "outputId": "df209fdf-df7e-484f-ce5c-997e749c0075",
    "papermill": {
     "duration": 0.09064,
     "end_time": "2023-09-14T16:12:10.545433",
     "exception": false,
     "start_time": "2023-09-14T16:12:10.454793",
     "status": "completed"
    },
    "tags": []
   },
   "outputs": [
    {
     "data": {
      "text/html": [
       "<div>\n",
       "<style scoped>\n",
       "    .dataframe tbody tr th:only-of-type {\n",
       "        vertical-align: middle;\n",
       "    }\n",
       "\n",
       "    .dataframe tbody tr th {\n",
       "        vertical-align: top;\n",
       "    }\n",
       "\n",
       "    .dataframe thead th {\n",
       "        text-align: right;\n",
       "    }\n",
       "</style>\n",
       "<table border=\"1\" class=\"dataframe\">\n",
       "  <thead>\n",
       "    <tr style=\"text-align: right;\">\n",
       "      <th></th>\n",
       "      <th>Date</th>\n",
       "      <th>Team_1</th>\n",
       "      <th>Team_2</th>\n",
       "      <th>first_position</th>\n",
       "      <th>second_position</th>\n",
       "    </tr>\n",
       "  </thead>\n",
       "  <tbody>\n",
       "    <tr>\n",
       "      <th>0</th>\n",
       "      <td>05-10-2023</td>\n",
       "      <td>England</td>\n",
       "      <td>New Zealand</td>\n",
       "      <td>5</td>\n",
       "      <td>5</td>\n",
       "    </tr>\n",
       "    <tr>\n",
       "      <th>1</th>\n",
       "      <td>06-10-2023</td>\n",
       "      <td>Pakistan</td>\n",
       "      <td>Netherlands</td>\n",
       "      <td>2</td>\n",
       "      <td>14</td>\n",
       "    </tr>\n",
       "    <tr>\n",
       "      <th>2</th>\n",
       "      <td>07-10-2023</td>\n",
       "      <td>Bangladesh</td>\n",
       "      <td>Afghanistan</td>\n",
       "      <td>7</td>\n",
       "      <td>9</td>\n",
       "    </tr>\n",
       "    <tr>\n",
       "      <th>3</th>\n",
       "      <td>07-10-2023</td>\n",
       "      <td>South Africa</td>\n",
       "      <td>Sri Lanka</td>\n",
       "      <td>4</td>\n",
       "      <td>8</td>\n",
       "    </tr>\n",
       "    <tr>\n",
       "      <th>4</th>\n",
       "      <td>08-10-2023</td>\n",
       "      <td>India</td>\n",
       "      <td>Australia</td>\n",
       "      <td>1</td>\n",
       "      <td>2</td>\n",
       "    </tr>\n",
       "  </tbody>\n",
       "</table>\n",
       "</div>"
      ],
      "text/plain": [
       "         Date        Team_1       Team_2  first_position  second_position\n",
       "0  05-10-2023       England  New Zealand               5                5\n",
       "1  06-10-2023     Pakistan   Netherlands               2               14\n",
       "2  07-10-2023    Bangladesh  Afghanistan               7                9\n",
       "3  07-10-2023  South Africa    Sri Lanka               4                8\n",
       "4  08-10-2023         India    Australia               1                2"
      ]
     },
     "execution_count": 22,
     "metadata": {},
     "output_type": "execute_result"
    }
   ],
   "source": [
    "# Filling missing values in 'first_position' and 'second_position' columns with their respective means.\n",
    "fixtures['first_position']=fixtures['first_position'].fillna(fixtures['first_position'].mean())\n",
    "fixtures['second_position']=fixtures['second_position'].fillna(fixtures['second_position'].mean())\n",
    "fixtures.head()"
   ]
  },
  {
   "cell_type": "code",
   "execution_count": 23,
   "id": "3e7e6f2c",
   "metadata": {
    "execution": {
     "iopub.execute_input": "2023-09-14T16:12:10.678084Z",
     "iopub.status.busy": "2023-09-14T16:12:10.677627Z",
     "iopub.status.idle": "2023-09-14T16:12:10.702064Z",
     "shell.execute_reply": "2023-09-14T16:12:10.700136Z"
    },
    "id": "RvikfkAhEa3T",
    "outputId": "b9eca0df-ef9e-4173-8bab-fc3afd4c8138",
    "papermill": {
     "duration": 0.094953,
     "end_time": "2023-09-14T16:12:10.705160",
     "exception": false,
     "start_time": "2023-09-14T16:12:10.610207",
     "status": "completed"
    },
    "tags": []
   },
   "outputs": [
    {
     "data": {
      "text/html": [
       "<div>\n",
       "<style scoped>\n",
       "    .dataframe tbody tr th:only-of-type {\n",
       "        vertical-align: middle;\n",
       "    }\n",
       "\n",
       "    .dataframe tbody tr th {\n",
       "        vertical-align: top;\n",
       "    }\n",
       "\n",
       "    .dataframe thead th {\n",
       "        text-align: right;\n",
       "    }\n",
       "</style>\n",
       "<table border=\"1\" class=\"dataframe\">\n",
       "  <thead>\n",
       "    <tr style=\"text-align: right;\">\n",
       "      <th></th>\n",
       "      <th>Team_1</th>\n",
       "      <th>Team_2</th>\n",
       "      <th>winning_team</th>\n",
       "    </tr>\n",
       "  </thead>\n",
       "  <tbody>\n",
       "    <tr>\n",
       "      <th>0</th>\n",
       "      <td>New Zealand</td>\n",
       "      <td>England</td>\n",
       "      <td>None</td>\n",
       "    </tr>\n",
       "    <tr>\n",
       "      <th>1</th>\n",
       "      <td>Pakistan</td>\n",
       "      <td>Netherlands</td>\n",
       "      <td>None</td>\n",
       "    </tr>\n",
       "    <tr>\n",
       "      <th>2</th>\n",
       "      <td>Bangladesh</td>\n",
       "      <td>Afghanistan</td>\n",
       "      <td>None</td>\n",
       "    </tr>\n",
       "    <tr>\n",
       "      <th>3</th>\n",
       "      <td>South Africa</td>\n",
       "      <td>Sri Lanka</td>\n",
       "      <td>None</td>\n",
       "    </tr>\n",
       "    <tr>\n",
       "      <th>4</th>\n",
       "      <td>India</td>\n",
       "      <td>Australia</td>\n",
       "      <td>None</td>\n",
       "    </tr>\n",
       "  </tbody>\n",
       "</table>\n",
       "</div>"
      ],
      "text/plain": [
       "         Team_1       Team_2 winning_team\n",
       "0   New Zealand      England         None\n",
       "1     Pakistan   Netherlands         None\n",
       "2    Bangladesh  Afghanistan         None\n",
       "3  South Africa    Sri Lanka         None\n",
       "4         India    Australia         None"
      ]
     },
     "execution_count": 23,
     "metadata": {},
     "output_type": "execute_result"
    }
   ],
   "source": [
    "# Predicting winning teams based on positions in fixtures.\n",
    "for index, row in fixtures.iterrows():\n",
    "    if row['first_position'] < row['second_position']:\n",
    "        pred_set.append({'Team_1': row['Team_1'], 'Team_2': row['Team_2'], 'winning_team': None})\n",
    "    else:\n",
    "        pred_set.append({'Team_1': row['Team_2'], 'Team_2': row['Team_1'], 'winning_team': None})\n",
    "\n",
    "pred_set = pd.DataFrame(pred_set) # Creating a DataFrame for pred_set.\n",
    "backup_pred_set = pred_set  # Creating a backup of the pred_set DataFrame\n",
    "pred_set.head()  # Displaying the first few rows of the pred_set DataFrame"
   ]
  },
  {
   "cell_type": "code",
   "execution_count": 24,
   "id": "7122991a",
   "metadata": {
    "execution": {
     "iopub.execute_input": "2023-09-14T16:12:10.840798Z",
     "iopub.status.busy": "2023-09-14T16:12:10.840324Z",
     "iopub.status.idle": "2023-09-14T16:12:10.885565Z",
     "shell.execute_reply": "2023-09-14T16:12:10.884104Z"
    },
    "id": "bRRZsyKaNB87",
    "outputId": "806a72a2-b96f-44d9-d3ad-45b658c4cd4a",
    "papermill": {
     "duration": 0.116542,
     "end_time": "2023-09-14T16:12:10.888757",
     "exception": false,
     "start_time": "2023-09-14T16:12:10.772215",
     "status": "completed"
    },
    "tags": []
   },
   "outputs": [
    {
     "data": {
      "text/html": [
       "<div>\n",
       "<style scoped>\n",
       "    .dataframe tbody tr th:only-of-type {\n",
       "        vertical-align: middle;\n",
       "    }\n",
       "\n",
       "    .dataframe tbody tr th {\n",
       "        vertical-align: top;\n",
       "    }\n",
       "\n",
       "    .dataframe thead th {\n",
       "        text-align: right;\n",
       "    }\n",
       "</style>\n",
       "<table border=\"1\" class=\"dataframe\">\n",
       "  <thead>\n",
       "    <tr style=\"text-align: right;\">\n",
       "      <th></th>\n",
       "      <th>Team_1_Afghanistan</th>\n",
       "      <th>Team_1_Afghanistan</th>\n",
       "      <th>Team_1_Australia</th>\n",
       "      <th>Team_1_Australia</th>\n",
       "      <th>Team_1_Bangladesh</th>\n",
       "      <th>Team_1_Bangladesh</th>\n",
       "      <th>Team_1_England</th>\n",
       "      <th>Team_1_England</th>\n",
       "      <th>Team_1_Hong Kong</th>\n",
       "      <th>Team_1_Hong Kong</th>\n",
       "      <th>...</th>\n",
       "      <th>Team_2_Netherlands</th>\n",
       "      <th>Team_2_New Zealand</th>\n",
       "      <th>Team_2_Oman</th>\n",
       "      <th>Team_2_Pakistan</th>\n",
       "      <th>Team_2_Scotland</th>\n",
       "      <th>Team_2_South Africa</th>\n",
       "      <th>Team_2_Sri Lanka</th>\n",
       "      <th>Team_2_United Arab Emirates</th>\n",
       "      <th>Team_2_West Indies</th>\n",
       "      <th>Team_2_Zimbabwe</th>\n",
       "    </tr>\n",
       "  </thead>\n",
       "  <tbody>\n",
       "    <tr>\n",
       "      <th>0</th>\n",
       "      <td>0</td>\n",
       "      <td>0</td>\n",
       "      <td>0</td>\n",
       "      <td>0</td>\n",
       "      <td>0</td>\n",
       "      <td>0</td>\n",
       "      <td>0</td>\n",
       "      <td>0</td>\n",
       "      <td>0</td>\n",
       "      <td>0</td>\n",
       "      <td>...</td>\n",
       "      <td>0</td>\n",
       "      <td>0</td>\n",
       "      <td>0</td>\n",
       "      <td>0</td>\n",
       "      <td>0</td>\n",
       "      <td>0</td>\n",
       "      <td>0</td>\n",
       "      <td>0</td>\n",
       "      <td>0</td>\n",
       "      <td>0</td>\n",
       "    </tr>\n",
       "    <tr>\n",
       "      <th>1</th>\n",
       "      <td>0</td>\n",
       "      <td>0</td>\n",
       "      <td>0</td>\n",
       "      <td>0</td>\n",
       "      <td>0</td>\n",
       "      <td>0</td>\n",
       "      <td>0</td>\n",
       "      <td>0</td>\n",
       "      <td>0</td>\n",
       "      <td>0</td>\n",
       "      <td>...</td>\n",
       "      <td>1</td>\n",
       "      <td>0</td>\n",
       "      <td>0</td>\n",
       "      <td>0</td>\n",
       "      <td>0</td>\n",
       "      <td>0</td>\n",
       "      <td>0</td>\n",
       "      <td>0</td>\n",
       "      <td>0</td>\n",
       "      <td>0</td>\n",
       "    </tr>\n",
       "    <tr>\n",
       "      <th>2</th>\n",
       "      <td>0</td>\n",
       "      <td>0</td>\n",
       "      <td>0</td>\n",
       "      <td>0</td>\n",
       "      <td>1</td>\n",
       "      <td>0</td>\n",
       "      <td>0</td>\n",
       "      <td>0</td>\n",
       "      <td>0</td>\n",
       "      <td>0</td>\n",
       "      <td>...</td>\n",
       "      <td>0</td>\n",
       "      <td>0</td>\n",
       "      <td>0</td>\n",
       "      <td>0</td>\n",
       "      <td>0</td>\n",
       "      <td>0</td>\n",
       "      <td>0</td>\n",
       "      <td>0</td>\n",
       "      <td>0</td>\n",
       "      <td>0</td>\n",
       "    </tr>\n",
       "    <tr>\n",
       "      <th>3</th>\n",
       "      <td>0</td>\n",
       "      <td>0</td>\n",
       "      <td>0</td>\n",
       "      <td>0</td>\n",
       "      <td>0</td>\n",
       "      <td>0</td>\n",
       "      <td>0</td>\n",
       "      <td>0</td>\n",
       "      <td>0</td>\n",
       "      <td>0</td>\n",
       "      <td>...</td>\n",
       "      <td>0</td>\n",
       "      <td>0</td>\n",
       "      <td>0</td>\n",
       "      <td>0</td>\n",
       "      <td>0</td>\n",
       "      <td>0</td>\n",
       "      <td>1</td>\n",
       "      <td>0</td>\n",
       "      <td>0</td>\n",
       "      <td>0</td>\n",
       "    </tr>\n",
       "    <tr>\n",
       "      <th>4</th>\n",
       "      <td>0</td>\n",
       "      <td>0</td>\n",
       "      <td>0</td>\n",
       "      <td>0</td>\n",
       "      <td>0</td>\n",
       "      <td>0</td>\n",
       "      <td>0</td>\n",
       "      <td>0</td>\n",
       "      <td>0</td>\n",
       "      <td>0</td>\n",
       "      <td>...</td>\n",
       "      <td>0</td>\n",
       "      <td>0</td>\n",
       "      <td>0</td>\n",
       "      <td>0</td>\n",
       "      <td>0</td>\n",
       "      <td>0</td>\n",
       "      <td>0</td>\n",
       "      <td>0</td>\n",
       "      <td>0</td>\n",
       "      <td>0</td>\n",
       "    </tr>\n",
       "  </tbody>\n",
       "</table>\n",
       "<p>5 rows × 53 columns</p>\n",
       "</div>"
      ],
      "text/plain": [
       "   Team_1_Afghanistan  Team_1_Afghanistan   Team_1_Australia  \\\n",
       "0                   0                    0                 0   \n",
       "1                   0                    0                 0   \n",
       "2                   0                    0                 0   \n",
       "3                   0                    0                 0   \n",
       "4                   0                    0                 0   \n",
       "\n",
       "   Team_1_Australia   Team_1_Bangladesh  Team_1_Bangladesh   Team_1_England  \\\n",
       "0                  0                  0                   0               0   \n",
       "1                  0                  0                   0               0   \n",
       "2                  0                  1                   0               0   \n",
       "3                  0                  0                   0               0   \n",
       "4                  0                  0                   0               0   \n",
       "\n",
       "   Team_1_England   Team_1_Hong Kong  Team_1_Hong Kong   ...  \\\n",
       "0                0                 0                  0  ...   \n",
       "1                0                 0                  0  ...   \n",
       "2                0                 0                  0  ...   \n",
       "3                0                 0                  0  ...   \n",
       "4                0                 0                  0  ...   \n",
       "\n",
       "   Team_2_Netherlands  Team_2_New Zealand  Team_2_Oman  Team_2_Pakistan  \\\n",
       "0                   0                   0            0                0   \n",
       "1                   1                   0            0                0   \n",
       "2                   0                   0            0                0   \n",
       "3                   0                   0            0                0   \n",
       "4                   0                   0            0                0   \n",
       "\n",
       "   Team_2_Scotland  Team_2_South Africa  Team_2_Sri Lanka  \\\n",
       "0                0                    0                 0   \n",
       "1                0                    0                 0   \n",
       "2                0                    0                 0   \n",
       "3                0                    0                 1   \n",
       "4                0                    0                 0   \n",
       "\n",
       "   Team_2_United Arab Emirates  Team_2_West Indies  Team_2_Zimbabwe  \n",
       "0                            0                   0                0  \n",
       "1                            0                   0                0  \n",
       "2                            0                   0                0  \n",
       "3                            0                   0                0  \n",
       "4                            0                   0                0  \n",
       "\n",
       "[5 rows x 53 columns]"
      ]
     },
     "execution_count": 24,
     "metadata": {},
     "output_type": "execute_result"
    }
   ],
   "source": [
    "# Transforming the dataset using one-hot encoding for 'Team_1' and 'Team_2' columns.\n",
    "pred_set = pd.get_dummies(pred_set, prefix=['Team_1', 'Team_2'], columns=['Team_1', 'Team_2'])\n",
    "\n",
    "# Finding missing columns in the final dataset compared to the transformed 'pred_set'.\n",
    "missing_cols = set(final.columns) - set(pred_set.columns)\n",
    "\n",
    "# Setting the missing columns in \"pred_set\" DataFrame to 0 and then keeps only the columns present in the \"final\" DataFrame.\n",
    "for c in missing_cols:\n",
    "    pred_set[c] = 0\n",
    "pred_set = pred_set[final.columns]\n",
    "\n",
    "# Dropping the 'Winner' column from pred_set.\n",
    "pred_set = pred_set.drop(['Winner'], axis=1)\n",
    "pred_set.head()"
   ]
  },
  {
   "cell_type": "markdown",
   "id": "39f636fa",
   "metadata": {
    "id": "I5KKJhcjBGRW",
    "papermill": {
     "duration": 0.071288,
     "end_time": "2023-09-14T16:12:11.026349",
     "exception": false,
     "start_time": "2023-09-14T16:12:10.955061",
     "status": "completed"
    },
    "tags": []
   },
   "source": [
    "## Interpret the model results"
   ]
  },
  {
   "cell_type": "code",
   "execution_count": 25,
   "id": "720c3af0",
   "metadata": {
    "execution": {
     "iopub.execute_input": "2023-09-14T16:12:11.160563Z",
     "iopub.status.busy": "2023-09-14T16:12:11.160127Z",
     "iopub.status.idle": "2023-09-14T16:12:11.190529Z",
     "shell.execute_reply": "2023-09-14T16:12:11.188993Z"
    },
    "id": "h63YPmP1NB-c",
    "outputId": "e2641c9a-b9db-4da3-811b-aee314b4a3af",
    "papermill": {
     "duration": 0.103078,
     "end_time": "2023-09-14T16:12:11.194513",
     "exception": false,
     "start_time": "2023-09-14T16:12:11.091435",
     "status": "completed"
    },
    "tags": []
   },
   "outputs": [
    {
     "name": "stdout",
     "output_type": "stream",
     "text": [
      "England vs New Zealand\n",
      "Winner: New Zealand\n",
      "\n",
      "Netherlands vs Pakistan \n",
      "Winner: Pakistan \n",
      "\n",
      "Afghanistan vs Bangladesh\n",
      "Winner: Bangladesh\n",
      "\n",
      "Sri Lanka vs South Africa\n",
      "Winner: South Africa\n",
      "\n",
      "Australia vs India\n",
      "Winner: India\n",
      "\n",
      "Netherlands vs New Zealand\n",
      "Winner: New Zealand\n",
      "\n",
      "Bangladesh vs England\n",
      "Winner: England\n",
      "\n",
      "Afghanistan vs India\n",
      "Winner: India\n",
      "\n",
      "Sri Lanka vs Pakistan \n",
      "Winner: Pakistan \n",
      "\n",
      "South Africa vs Australia\n",
      "Winner: Australia\n",
      "\n",
      "Bangladesh vs New Zealand\n",
      "Winner: New Zealand\n",
      "\n",
      "Afghanistan vs England\n",
      "Winner: England\n",
      "\n",
      "Pakistan vs India\n",
      "Winner: India\n",
      "\n",
      "Sri Lanka vs Australia\n",
      "Winner: Australia\n",
      "\n",
      "Netherlands vs South Africa\n",
      "Winner: South Africa\n",
      "\n",
      "Afghanistan vs New Zealand\n",
      "Winner: New Zealand\n",
      "\n",
      "Bangladesh vs India\n",
      "Winner: India\n",
      "\n",
      "Australia vs Pakistan\n",
      "Winner: Pakistan\n",
      "\n",
      "Netherlands vs Sri Lanka\n",
      "Winner: Sri Lanka\n",
      "\n",
      "England vs South Africa\n",
      "Winner: South Africa\n",
      "\n",
      "New Zealand vs India\n",
      "Winner: India\n",
      "\n",
      "Afghanistan vs Pakistan \n",
      "Winner: Pakistan \n",
      "\n",
      "Bangladesh vs South Africa\n",
      "Winner: South Africa\n",
      "\n",
      "Netherlands vs Australia\n",
      "Winner: Australia\n",
      "\n",
      "Sri Lanka vs England\n",
      "Winner: England\n",
      "\n",
      "South Africa vs Pakistan \n",
      "Winner: Pakistan \n",
      "\n",
      "New Zealand vs Australia\n",
      "Winner: Australia\n",
      "\n",
      "Netherlands vs Bangladesh\n",
      "Winner: Bangladesh\n",
      "\n",
      "England vs India\n",
      "Winner: India\n",
      "\n",
      "Afghanistan vs Sri Lanka\n",
      "Winner: Sri Lanka\n",
      "\n",
      "Bangladesh vs Pakistan \n",
      "Winner: Pakistan \n",
      "\n",
      "New Zealand vs South Africa\n",
      "Winner: South Africa\n",
      "\n",
      "Sri Lanka vs India\n",
      "Winner: India\n",
      "\n",
      "Netherlands vs Afghanistan\n",
      "Winner: Afghanistan\n",
      "\n",
      "New Zealand vs Pakistan\n",
      "Winner: Pakistan\n",
      "\n",
      "England vs Australia\n",
      "Winner: Australia\n",
      "\n",
      "South Africa vs India\n",
      "Winner: India\n",
      "\n",
      "Sri Lanka vs Bangladesh\n",
      "Winner: Bangladesh\n",
      "\n",
      "Afghanistan vs Australia\n",
      "Winner: Australia\n",
      "\n",
      "Netherlands vs England\n",
      "Winner: England\n",
      "\n",
      "Sri Lanka vs New Zealand\n",
      "Winner: New Zealand\n",
      "\n",
      "Afghanistan vs South Africa\n",
      "Winner: South Africa\n",
      "\n",
      "Netherlands vs India\n",
      "Winner: India\n",
      "\n",
      "Bangladesh vs Australia\n",
      "Winner: Australia\n",
      "\n",
      "England vs Pakistan\n",
      "Winner: Pakistan\n",
      "\n"
     ]
    }
   ],
   "source": [
    "# Making predictions using 'rf' on 'pred_set' and printing the winners for each fixture based on the prediction\n",
    "predictions = rf.predict(pred_set)\n",
    "for i in range(fixtures.shape[0]):\n",
    "    print(backup_pred_set.iloc[i, 1] + \" vs \" + backup_pred_set.iloc[i, 0])\n",
    "    if predictions[i] == 1:\n",
    "        print(\"Winner: \" + backup_pred_set.iloc[i, 1])\n",
    "\n",
    "    else:\n",
    "        print(\"Winner: \" + backup_pred_set.iloc[i, 0])\n",
    "    print(\"\")"
   ]
  },
  {
   "cell_type": "code",
   "execution_count": 26,
   "id": "eb1082a2",
   "metadata": {
    "execution": {
     "iopub.execute_input": "2023-09-14T16:12:11.333712Z",
     "iopub.status.busy": "2023-09-14T16:12:11.332147Z",
     "iopub.status.idle": "2023-09-14T16:12:11.338456Z",
     "shell.execute_reply": "2023-09-14T16:12:11.337504Z"
    },
    "id": "9LFWJsLyRMOw",
    "papermill": {
     "duration": 0.079611,
     "end_time": "2023-09-14T16:12:11.341172",
     "exception": false,
     "start_time": "2023-09-14T16:12:11.261561",
     "status": "completed"
    },
    "tags": []
   },
   "outputs": [],
   "source": [
    "# The teams qualified for semi-finals based on wins.\n",
    "semi = [('Pakistan', 'Australia'),\n",
    "            ('South Africa', 'India')]"
   ]
  },
  {
   "cell_type": "code",
   "execution_count": 27,
   "id": "2252cee2",
   "metadata": {
    "execution": {
     "iopub.execute_input": "2023-09-14T16:12:11.484657Z",
     "iopub.status.busy": "2023-09-14T16:12:11.481505Z",
     "iopub.status.idle": "2023-09-14T16:12:11.544156Z",
     "shell.execute_reply": "2023-09-14T16:12:11.542386Z"
    },
    "id": "xkgQKEqGSXeA",
    "outputId": "f8024eda-7d74-41ab-f2dd-e0d66fcd0a7f",
    "papermill": {
     "duration": 0.1391,
     "end_time": "2023-09-14T16:12:11.548375",
     "exception": false,
     "start_time": "2023-09-14T16:12:11.409275",
     "status": "completed"
    },
    "tags": []
   },
   "outputs": [
    {
     "name": "stdout",
     "output_type": "stream",
     "text": [
      "Pakistan vs Australia\n",
      "Winner: Australia\n",
      "\n",
      "South Africa vs India\n",
      "Winner: India\n",
      "\n"
     ]
    }
   ],
   "source": [
    "def clean_and_predict(matches, ranking, final, rf):\n",
    "    # Initialize an empty list to store the positions of teams in the ranking\n",
    "    positions = []\n",
    "\n",
    "    # Loop through the list of matches and add the rankings of the teams to the positions list\n",
    "    for match in matches:\n",
    "        positions.append(ranking.loc[ranking['Team_name'] == match[0], 'Team_ranking'].iloc[0])\n",
    "        positions.append(ranking.loc[ranking['Team_name'] == match[0], 'Team_ranking'].iloc[0])\n",
    "\n",
    "    # Initialize an empty list to store the match predictions\n",
    "    pred_set = []\n",
    "\n",
    "    # Initialize indices i and j to 0 for iteration\n",
    "    i = 0\n",
    "    j = 0\n",
    "\n",
    "    # Loop through the positions list to create match predictions\n",
    "    while i < len(positions):\n",
    "        dict1 = {}\n",
    "        # Compare the positions of the two teams in the match\n",
    "        # and add the corresponding team names to the prediction dictionary\n",
    "        if positions[i] < positions[i + 1]:\n",
    "            dict1.update({'Team_1': matches[j][0], 'Team_2': matches[j][1]})\n",
    "        else:\n",
    "            dict1.update({'Team_1': matches[j][1], 'Team_2': matches[j][0]})\n",
    "\n",
    "        # Add the prediction dictionary to the pred_set list\n",
    "        pred_set.append(dict1)\n",
    "        i += 2\n",
    "        j += 1\n",
    "\n",
    "    # Convert the pred_set list into a pandas DataFrame\n",
    "    pred_set = pd.DataFrame(pred_set)\n",
    "\n",
    "    # Make a backup of the pred_set DataFrame\n",
    "    backup_pred_set = pred_set\n",
    "\n",
    "    # Convert categorical variables in the pred_set DataFrame into dummy variables\n",
    "    pred_set = pd.get_dummies(pred_set, prefix=['Team_1', 'Team_2'], columns=['Team_1', 'Team_2'])\n",
    "\n",
    "    # Identify missing columns in pred_set compared to the final DataFrame\n",
    "    missing_cols2 = set(final.columns) - set(pred_set.columns)\n",
    "\n",
    "    # Add the missing columns to the pred_set DataFrame and set their values to 0\n",
    "    for c in missing_cols2:\n",
    "        pred_set[c] = 0\n",
    "\n",
    "    # Reorder pred_set columns to match the final DataFrame's order\n",
    "    pred_set = pred_set[final.columns]\n",
    "\n",
    "    # Drop the 'Winner' column from the pred_set DataFrame\n",
    "    pred_set = pred_set.drop(['Winner'], axis=1)\n",
    "\n",
    "    # Use the provided classifier (cls) to make predictions on the pred_set DataFrame\n",
    "    predictions = rf.predict(pred_set)\n",
    "\n",
    "    # Loop through the pred_set DataFrame and print the match predictions and winners\n",
    "    for i in range(len(pred_set)):\n",
    "        print(backup_pred_set.iloc[i, 1] + \" vs \" + backup_pred_set.iloc[i, 0])\n",
    "        if predictions[i] == 1:\n",
    "            print(\"Winner: \" + backup_pred_set.iloc[i, 1])\n",
    "        else:\n",
    "            print(\"Winner: \" + backup_pred_set.iloc[i, 0])\n",
    "        print(\"\")\n",
    "\n",
    "# Call the clean_and_predict function with the provided arguments\n",
    "clean_and_predict(semi, ranking, final, rf)\n"
   ]
  },
  {
   "cell_type": "code",
   "execution_count": 28,
   "id": "1937cae3",
   "metadata": {
    "execution": {
     "iopub.execute_input": "2023-09-14T16:12:11.685383Z",
     "iopub.status.busy": "2023-09-14T16:12:11.684846Z",
     "iopub.status.idle": "2023-09-14T16:12:11.690934Z",
     "shell.execute_reply": "2023-09-14T16:12:11.689465Z"
    },
    "id": "I0ertx0CSXg5",
    "papermill": {
     "duration": 0.079668,
     "end_time": "2023-09-14T16:12:11.694065",
     "exception": false,
     "start_time": "2023-09-14T16:12:11.614397",
     "status": "completed"
    },
    "tags": []
   },
   "outputs": [],
   "source": [
    "# The teams qualified for the Finals\n",
    "finals = [('Australia', 'India')]"
   ]
  },
  {
   "cell_type": "markdown",
   "id": "5b4862f3",
   "metadata": {
    "id": "tj0ladlpBS2X",
    "papermill": {
     "duration": 0.066857,
     "end_time": "2023-09-14T16:12:11.829317",
     "exception": false,
     "start_time": "2023-09-14T16:12:11.762460",
     "status": "completed"
    },
    "tags": []
   },
   "source": [
    "## Conclusion"
   ]
  },
  {
   "cell_type": "code",
   "execution_count": 29,
   "id": "4b355b5e",
   "metadata": {
    "execution": {
     "iopub.execute_input": "2023-09-14T16:12:11.965246Z",
     "iopub.status.busy": "2023-09-14T16:12:11.964741Z",
     "iopub.status.idle": "2023-09-14T16:12:12.013436Z",
     "shell.execute_reply": "2023-09-14T16:12:12.011932Z"
    },
    "id": "IUGKbqQVNCEf",
    "outputId": "a4fe3715-4ecb-4797-e7cb-b6f019981fcd",
    "papermill": {
     "duration": 0.119851,
     "end_time": "2023-09-14T16:12:12.016698",
     "exception": false,
     "start_time": "2023-09-14T16:12:11.896847",
     "status": "completed"
    },
    "tags": []
   },
   "outputs": [
    {
     "name": "stdout",
     "output_type": "stream",
     "text": [
      "Australia vs India\n",
      "Winner: India\n",
      "\n"
     ]
    }
   ],
   "source": [
    "# Clean the data, apply ranking and use the classifier to predict the final outcome\n",
    "clean_and_predict(finals, ranking, final, rf)"
   ]
  }
 ],
 "kernelspec": {
  "display_name": "Python 3",
  "language": "python",
  "name": "python3"
 },
 "language_info": {
  "codemirror_mode": {
   "name": "ipython",
   "version": 3
  },
  "file_extension": ".py",
  "mimetype": "text/x-python",
  "name": "python",
  "nbconvert_exporter": "python",
  "pygments_lexer": "ipython3",
  "version": "3.6.4"
 },
 "metadata": {
  "colab": {
   "provenance": []
  },
  "kernelspec": {
   "display_name": "Python 3",
   "language": "python",
   "name": "python3"
  },
  "language_info": {
   "codemirror_mode": {
    "name": "ipython",
    "version": 3
   },
   "file_extension": ".py",
   "mimetype": "text/x-python",
   "name": "python",
   "nbconvert_exporter": "python",
   "pygments_lexer": "ipython3",
   "version": "3.10.7"
  },
  "papermill": {
   "default_parameters": {},
   "duration": 29.004794,
   "end_time": "2023-09-14T16:12:12.807372",
   "environment_variables": {},
   "exception": null,
   "input_path": "__notebook__.ipynb",
   "output_path": "__notebook__.ipynb",
   "parameters": {},
   "start_time": "2023-09-14T16:11:43.802578",
   "version": "2.4.0"
  }
 },
 "nbformat": 4,
 "nbformat_minor": 5
}
